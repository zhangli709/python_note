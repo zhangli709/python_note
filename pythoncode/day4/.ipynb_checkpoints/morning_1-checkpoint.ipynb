{
 "cells": [
  {
   "cell_type": "code",
   "execution_count": null,
   "metadata": {},
   "outputs": [],
   "source": [
    "#10点54分"
   ]
  },
  {
   "cell_type": "code",
   "execution_count": 2,
   "metadata": {},
   "outputs": [
    {
     "name": "stdout",
     "output_type": "stream",
     "text": [
      "请输入第一个整数:333\n",
      "请输入第二个整数:444\n",
      "请输入第三个整数:222\n",
      "最大的整数为:444\n"
     ]
    }
   ],
   "source": [
    "import math\n",
    "a = int(input('请输入第一个整数:'))\n",
    "b = int(input('请输入第二个整数:'))\n",
    "c = int(input('请输入第三个整数:'))\n",
    "d = max(a, b , c)\n",
    "print('最大的整数为:%d' %d)"
   ]
  },
  {
   "cell_type": "code",
   "execution_count": null,
   "metadata": {},
   "outputs": [],
   "source": [
    "# a > b and a or b  如果a大于b, 则取a ,否则取b."
   ]
  },
  {
   "cell_type": "code",
   "execution_count": 3,
   "metadata": {},
   "outputs": [
    {
     "name": "stdout",
     "output_type": "stream",
     "text": [
      "请输入第一个整数:3\n",
      "请输入第二个整数:4\n",
      "请输入第三个整数:5\n",
      "3 4 5\n"
     ]
    }
   ],
   "source": [
    "#输入3个数,按照从小到大输出\n",
    "import math\n",
    "a = int(input('请输入第一个整数:'))\n",
    "b = int(input('请输入第二个整数:'))\n",
    "c = int(input('请输入第三个整数:'))\n",
    "d = max(a, b, c)\n",
    "f = min(a, b, c)\n",
    "if f < a < d:\n",
    "    g = a\n",
    "if f < b < d:\n",
    "    g = b\n",
    "if f < c < d:\n",
    "    g = c\n",
    "\n",
    "print(f, g, d)"
   ]
  },
  {
   "cell_type": "code",
   "execution_count": 7,
   "metadata": {},
   "outputs": [
    {
     "name": "stdout",
     "output_type": "stream",
     "text": [
      "a =22\n",
      "b =22\n",
      "c =33\n",
      "22 22 33\n"
     ]
    }
   ],
   "source": [
    "#如何交换两个变量值   a, b = b, a\n",
    "'''\n",
    "temp = a\n",
    "a = b \n",
    "b = temp\n",
    "'''\n",
    "a = int(input('a ='))\n",
    "b = int(input('b ='))\n",
    "c = int(input('c ='))\n",
    "'''\n",
    "if a > b:\n",
    "    a, b = b, a\n",
    "if b > c:\n",
    "    b, c = c, b\n",
    "if a > b:\n",
    "    a, b = b, a\n",
    "print(a, b , c)'''\n",
    "(a, b) = a > b and (b, a) or (a, b)\n",
    "(b, c) = b > c and (c, b) or (b, c)\n",
    "(a, b) = a > b and (b, a) or (a, b)\n",
    "print(a, b, c)"
   ]
  },
  {
   "cell_type": "code",
   "execution_count": null,
   "metadata": {},
   "outputs": [],
   "source": [
    "#定义函数的规则:\n",
    "'''\n",
    "函数要以def关键字开头,后接函数标识符名称和圆括号()\n",
    "任何传入参数和自变量必须放在圆括号中间,圆括号之间可以用于定义参数\n",
    "函数的第一行语句可以选择性地使用文档字符串_用于存放函数说明\n",
    "函数内容以冒号起始,并且缩进\n",
    "return[表达式]结束函数,选择性地返回一个值给调用方,不带表达式的return相当于返回None\n",
    "\n",
    "'''"
   ]
  },
  {
   "cell_type": "code",
   "execution_count": 22,
   "metadata": {},
   "outputs": [
    {
     "name": "stdout",
     "output_type": "stream",
     "text": [
      "请输入一个数:33\n",
      "33他是质数!\n"
     ]
    }
   ],
   "source": [
    "#质数\n",
    "import math\n",
    "a = int(input('请输入一个数:'))\n",
    "for b in range(2, a):\n",
    "    c = a % b \n",
    "    if c == 0:\n",
    "        print('他不是质数!')\n",
    "        break\n",
    "    if c != 0:\n",
    "        print('%a他是质数!' % a)\n",
    "        break"
   ]
  },
  {
   "cell_type": "code",
   "execution_count": 20,
   "metadata": {},
   "outputs": [
    {
     "name": "stdout",
     "output_type": "stream",
     "text": [
      "请输入一个数:57\n",
      "57他不是质数\n"
     ]
    }
   ],
   "source": [
    "a = int(input('请输入一个数:'))\n",
    "is_prime = True\n",
    "for b in range(2, a):\n",
    "    c = a % b \n",
    "    if c == 0:\n",
    "        is_prime = False\n",
    "        break\n",
    "if is_prime:\n",
    "    print('%d他是质数!' % a)\n",
    "else:\n",
    "    print('%d他不是质数' % a)"
   ]
  },
  {
   "cell_type": "code",
   "execution_count": 26,
   "metadata": {},
   "outputs": [
    {
     "name": "stdout",
     "output_type": "stream",
     "text": [
      "请输入一个数字:17\n",
      "17是质数\n"
     ]
    }
   ],
   "source": [
    "a = int(input('请输入一个数字:'))\n",
    "is_prime = True\n",
    "for b in range(2, a):\n",
    "    if a % b ==0:\n",
    "        is_prime = False\n",
    "        break\n",
    "if is_prime == False:\n",
    "    print('%d不是质数' % a)\n",
    "else:\n",
    "    print('%d是质数' % a)"
   ]
  },
  {
   "cell_type": "code",
   "execution_count": null,
   "metadata": {},
   "outputs": [],
   "source": []
  },
  {
   "cell_type": "code",
   "execution_count": null,
   "metadata": {},
   "outputs": [],
   "source": []
  }
 ],
 "metadata": {
  "kernelspec": {
   "display_name": "Python 3",
   "language": "python",
   "name": "python3"
  },
  "language_info": {
   "codemirror_mode": {
    "name": "ipython",
    "version": 3
   },
   "file_extension": ".py",
   "mimetype": "text/x-python",
   "name": "python",
   "nbconvert_exporter": "python",
   "pygments_lexer": "ipython3",
   "version": "3.6.4"
  }
 },
 "nbformat": 4,
 "nbformat_minor": 2
}
