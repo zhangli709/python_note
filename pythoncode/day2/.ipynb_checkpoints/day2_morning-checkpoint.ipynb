{
 "cells": [
  {
   "cell_type": "code",
   "execution_count": 6,
   "metadata": {},
   "outputs": [
    {
     "name": "stdout",
     "output_type": "stream",
     "text": [
      "请输入用户名：admin\n",
      "请输入密码：········\n",
      "欢迎使用本系统.\n"
     ]
    }
   ],
   "source": [
    "import getpass\n",
    "username = input('请输入用户名：')\n",
    "password = getpass.getpass('请输入密码：')\n",
    "if username =='admin' and password == '123456':\n",
    "    print('欢迎使用本系统.')\n",
    "else:\n",
    "    print('用户名或密码错误！')\n",
    "    "
   ]
  },
  {
   "cell_type": "code",
   "execution_count": null,
   "metadata": {},
   "outputs": [],
   "source": [
    "#单位换算\n",
    "value = float(input('请输入温度：'))\n",
    "unit = input(\"请输入单位：\")\n",
    "if unit == 'in' or unit == '英寸':\n",
    "    print()\n",
    "else if unit == 'cm' or unit == '厘米':\n",
    "    print()\n",
    "else:\n",
    "    print('请输入正确的单位！')"
   ]
  }
 ],
 "metadata": {
  "kernelspec": {
   "display_name": "Python 3",
   "language": "python",
   "name": "python3"
  },
  "language_info": {
   "codemirror_mode": {
    "name": "ipython",
    "version": 3
   },
   "file_extension": ".py",
   "mimetype": "text/x-python",
   "name": "python",
   "nbconvert_exporter": "python",
   "pygments_lexer": "ipython3",
   "version": "3.6.4"
  }
 },
 "nbformat": 4,
 "nbformat_minor": 2
}
