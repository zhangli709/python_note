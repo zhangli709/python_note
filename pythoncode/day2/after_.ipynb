{
 "cells": [
  {
   "cell_type": "code",
   "execution_count": null,
   "metadata": {
    "scrolled": true
   },
   "outputs": [],
   "source": [
    "import getpass\n",
    "username = input('请输入用户名：')\n",
    "password = getpass.getpass('请输入密码')\n",
    "if username == 'admin' and password == '121212':\n",
    "    print('欢迎您')\n",
    "else:\n",
    "    print('错误')"
   ]
  },
  {
   "cell_type": "code",
   "execution_count": null,
   "metadata": {},
   "outputs": [],
   "source": [
    "\n"
   ]
  },
  {
   "cell_type": "code",
   "execution_count": null,
   "metadata": {},
   "outputs": [
    {
     "name": "stdout",
     "output_type": "stream",
     "text": [
      "0:hello world\n",
      "1:hello world\n",
      "2:hello world\n",
      "3:hello world\n",
      "4:hello world\n",
      "5:hello world\n",
      "6:hello world\n",
      "7:hello world\n",
      "8:hello world\n",
      "9:hello world\n",
      "10:hello world\n",
      "11:hello world\n",
      "12:hello world\n",
      "13:hello world\n",
      "14:hello world\n",
      "15:hello world\n",
      "16:hello world\n",
      "17:hello world\n",
      "18:hello world\n",
      "19:hello world\n",
      "20:hello world\n",
      "21:hello world\n",
      "22:hello world\n",
      "23:hello world\n",
      "24:hello world\n",
      "25:hello world\n",
      "26:hello world\n",
      "27:hello world\n",
      "28:hello world\n",
      "29:hello world\n",
      "30:hello world\n",
      "31:hello world\n",
      "32:hello world\n",
      "33:hello world\n",
      "34:hello world\n",
      "35:hello world\n",
      "36:hello world\n",
      "37:hello world\n",
      "38:hello world\n",
      "39:hello world\n",
      "40:hello world\n",
      "41:hello world\n",
      "42:hello world\n",
      "43:hello world\n",
      "44:hello world\n",
      "45:hello world\n",
      "46:hello world\n",
      "47:hello world\n",
      "48:hello world\n",
      "49:hello world\n",
      "50:hello world\n",
      "51:hello world\n",
      "52:hello world\n"
     ]
    }
   ],
   "source": [
    "import time\n",
    "\n",
    "for x in range(1000):\n",
    "    print(x ,'hello world' , sep=':')\n",
    "    time.sleep(0.5)\n",
    "\n",
    "'''\n",
    "sep 分隔符\n",
    "for x in ...\n",
    "time.sleep--执行间隔\n",
    "\\n换行\n",
    "'''\n",
    "    "
   ]
  },
  {
   "cell_type": "code",
   "execution_count": 31,
   "metadata": {},
   "outputs": [
    {
     "name": "stdout",
     "output_type": "stream",
     "text": [
      "5050\n"
     ]
    }
   ],
   "source": [
    "sum = 0\n",
    "for x in range(101):\n",
    "    sum = sum + x\n",
    "print(sum)"
   ]
  },
  {
   "cell_type": "code",
   "execution_count": 29,
   "metadata": {},
   "outputs": [
    {
     "data": {
      "text/plain": [
       "[0, 1, 2, 3, 4]"
      ]
     },
     "execution_count": 29,
     "metadata": {},
     "output_type": "execute_result"
    }
   ],
   "source": [
    "list(range(5))"
   ]
  },
  {
   "cell_type": "code",
   "execution_count": 30,
   "metadata": {},
   "outputs": [
    {
     "data": {
      "text/plain": [
       "range(0, 5)"
      ]
     },
     "execution_count": 30,
     "metadata": {},
     "output_type": "execute_result"
    }
   ],
   "source": [
    "range(5)"
   ]
  },
  {
   "cell_type": "code",
   "execution_count": 44,
   "metadata": {},
   "outputs": [
    {
     "name": "stdout",
     "output_type": "stream",
     "text": [
      "2550\n"
     ]
    }
   ],
   "source": [
    "sum = 0\n",
    "n =100\n",
    "while n >= 0:\n",
    "    sum = sum + n\n",
    "    n = n - 2\n",
    "print (sum)"
   ]
  },
  {
   "cell_type": "code",
   "execution_count": 43,
   "metadata": {
    "scrolled": true
   },
   "outputs": [
    {
     "name": "stdout",
     "output_type": "stream",
     "text": [
      "5050\n"
     ]
    }
   ],
   "source": [
    "my_sum = 0 \n",
    "for num in range(1,101):\n",
    "    my_sum += num\n",
    "print(my_sum)"
   ]
  },
  {
   "cell_type": "code",
   "execution_count": 46,
   "metadata": {},
   "outputs": [
    {
     "name": "stdout",
     "output_type": "stream",
     "text": [
      "2550\n"
     ]
    }
   ],
   "source": [
    "my_sum = 0\n",
    "for num in range(1,101):\n",
    "    if num % 2 ==0:\n",
    "        my_sum += num\n",
    "    else:\n",
    "        pass\n",
    "print(my_sum)"
   ]
  },
  {
   "cell_type": "code",
   "execution_count": 48,
   "metadata": {},
   "outputs": [
    {
     "name": "stdout",
     "output_type": "stream",
     "text": [
      "2550\n"
     ]
    }
   ],
   "source": [
    "my_sum = 0\n",
    "for num in range(2, 101, 2):\n",
    "    my_sum += num\n",
    "print(my_sum)"
   ]
  },
  {
   "cell_type": "code",
   "execution_count": 50,
   "metadata": {},
   "outputs": [
    {
     "name": "stdout",
     "output_type": "stream",
     "text": [
      "2418\n"
     ]
    }
   ],
   "source": [
    "my_sum = 0\n",
    "for num in range(1, 101):\n",
    "    if num % 3 == 0 or num % 5 == 0:\n",
    "        my_sum += num\n",
    "print(my_sum)"
   ]
  },
  {
   "cell_type": "markdown",
   "metadata": {},
   "source": [
    "### for循环 知道次数,while 不知道循环次数,可以使用.也可以用于已知次数."
   ]
  },
  {
   "cell_type": "code",
   "execution_count": 58,
   "metadata": {},
   "outputs": [
    {
     "name": "stdout",
     "output_type": "stream",
     "text": [
      "2418\n"
     ]
    }
   ],
   "source": [
    "my_sum = 0\n",
    "num = 1\n",
    "while num < 101:\n",
    "    if num % 3 == 0 or num % 5 ==0:\n",
    "        my_sum += num\n",
    "    num += 1   \n",
    "print(my_sum)\n"
   ]
  },
  {
   "cell_type": "code",
   "execution_count": null,
   "metadata": {},
   "outputs": [],
   "source": [
    "from random import randint\n",
    "\n",
    "answer = randint(1,100)\n",
    "counter = 0\n",
    "\n",
    "while True:\n",
    "    your_answer = int(input('请输入:'))\n",
    "    counter +=1\n",
    "    if your_answer < answer:\n",
    "        print('大一点')\n",
    "    elif your_answer > answer:\n",
    "        print('小一点')\n",
    "    else:\n",
    "        print('恭喜你猜对了!')\n",
    "        break\n",
    "if counter > 7:\n",
    "    print('智商捉急')"
   ]
  },
  {
   "cell_type": "code",
   "execution_count": 1,
   "metadata": {},
   "outputs": [
    {
     "ename": "SyntaxError",
     "evalue": "invalid syntax (<ipython-input-1-1d3e6242eeea>, line 1)",
     "output_type": "error",
     "traceback": [
      "\u001b[1;36m  File \u001b[1;32m\"<ipython-input-1-1d3e6242eeea>\"\u001b[1;36m, line \u001b[1;32m1\u001b[0m\n\u001b[1;33m    1.turtle模块绘制更复杂的图形\u001b[0m\n\u001b[1;37m                     ^\u001b[0m\n\u001b[1;31mSyntaxError\u001b[0m\u001b[1;31m:\u001b[0m invalid syntax\n"
     ]
    }
   ],
   "source": [
    "1.turtle模块绘制更复杂的图形\n",
    "2.反转猜数字\n",
    "3.人机猜拳.(计算机产生随机数表示剪刀石头布.1000.)\n",
    "4.计算个人所得税.(总收入-五险一金) = x\n",
    "       (x - 各档线) * 税率-速算扣除数\n",
    "   "
   ]
  },
  {
   "cell_type": "code",
   "execution_count": null,
   "metadata": {},
   "outputs": [],
   "source": [
    "from random import randint\n",
    "\n",
    "answer = randint(1,1000)\n",
    "num = 0\n",
    "while True:\n",
    "    num += 1\n",
    "    my_answer = int(input('请输入数字:'))\n",
    "    if my_answer == answer:\n",
    "        print('恭喜你答对了!')\n",
    "        break\n",
    "    elif my_answer > answer:\n",
    "        print('大了!')\n",
    "    elif my_answer < answer:\n",
    "        print(\"小了\")\n",
    "while num == 7:\n",
    "    print('智商捉急')\n",
    "        "
   ]
  },
  {
   "cell_type": "markdown",
   "metadata": {},
   "source": [
    "## \n"
   ]
  },
  {
   "cell_type": "code",
   "execution_count": null,
   "metadata": {},
   "outputs": [],
   "source": [
    "import getpass\n",
    "username = input('请输入用户名：')\n",
    "password = getpass.getpass('请输入密码')\n",
    "if username == 'admin' and password == '121212':\n",
    "    print('欢迎您')\n",
    "else:\n",
    "    print('错误')"
   ]
  },
  {
   "cell_type": "code",
   "execution_count": null,
   "metadata": {},
   "outputs": [],
   "source": []
  }
 ],
 "metadata": {
  "kernelspec": {
   "display_name": "Python 3",
   "language": "python",
   "name": "python3"
  },
  "language_info": {
   "codemirror_mode": {
    "name": "ipython",
    "version": 3
   },
   "file_extension": ".py",
   "mimetype": "text/x-python",
   "name": "python",
   "nbconvert_exporter": "python",
   "pygments_lexer": "ipython3",
   "version": "3.6.4"
  }
 },
 "nbformat": 4,
 "nbformat_minor": 2
}
