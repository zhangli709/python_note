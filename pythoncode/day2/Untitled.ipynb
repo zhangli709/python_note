{
 "cells": [
  {
   "cell_type": "code",
   "execution_count": null,
   "metadata": {},
   "outputs": [],
   "source": [
    "import random \n",
    "import sys\n",
    "import time\n",
    "\n",
    "result =[]\n",
    "while True:\n",
    "    result.append(int(random.uniform(1,7)))\n",
    "    result.append(int(random.uniform(1,7)))\n",
    "    result.append(int(random.uniform(1,7)))\n",
    "    print result\n",
    "    count = 0\n",
    "    index = 2\n",
    "    pointStr = ''\n",
    "    while index >= 0:\n",
    "        currPoint = result[index]\n",
    "        count += currPoint\n",
    "        index -= 1\n",
    "        pointStr +=''\n",
    "        pointStr += str(currPoint)\n",
    "    if count <= 11:\n",
    "        sys.stdout.write(pointStr + '->' + '小' + '/n')\n",
    "        time.sleep(1)\n",
    "    else:\n",
    "        sys.stdout.write(pointStr + '->' + '大' + '/n')\n",
    "        result = []\n",
    "        "
   ]
  },
  {
   "cell_type": "markdown",
   "metadata": {},
   "source": [
    "###九九乘法表"
   ]
  },
  {
   "cell_type": "code",
   "execution_count": null,
   "metadata": {},
   "outputs": [],
   "source": [
    "i = 1\n",
    "while i :\n",
    "    j = 1 \n",
    "    while j:\n",
    "        print j,'*' ,i ,'=',i*j, '',\n",
    "        if i == j:\n",
    "            break\n",
    "        \n",
    "        j += 1\n",
    "        if j >= 10:\n",
    "            break\n",
    "    print '/n'\n",
    "    i += 1\n",
    "    if i >"
   ]
  },
  {
   "cell_type": "code",
   "execution_count": null,
   "metadata": {},
   "outputs": [],
   "source": [
    "def main():\n",
    "    mans = [True] * 30\n",
    "    count = 0\n",
    "    num = 0\n",
    "    index = 0\n",
    "    while count < 15:\n",
    "        if mans[index]:\n",
    "            num += 1\n",
    "            if num == 9:\n",
    "                mans[index] = False\n",
    "                num = 0\n",
    "                count += 1\n",
    "        index += 1\n",
    "        index = index % 30\n",
    "    for index, val in enumerate(mans):\n",
    "        print('基' if val else '非', end='')\n",
    "\n",
    "\n",
    "\n",
    "\n",
    "if __name__ == \"__main__\":\n",
    "    main()"
   ]
  },
  {
   "cell_type": "code",
   "execution_count": 2,
   "metadata": {},
   "outputs": [
    {
     "name": "stdout",
     "output_type": "stream",
     "text": [
      "关羽的成绩\n",
      "请输入语文成绩：1\n",
      "请输入数学成绩：2\n",
      "请输入Python成绩：3\n",
      "张飞的成绩\n",
      "请输入语文成绩：4\n",
      "请输入数学成绩：5\n",
      "请输入Python成绩：6\n",
      "赵云的成绩\n",
      "请输入语文成绩：7\n",
      "请输入数学成绩：8\n",
      "请输入Python成绩：9\n",
      "马超的成绩\n",
      "请输入语文成绩：11\n",
      "请输入数学成绩：22\n",
      "请输入Python成绩：33\n",
      "貂蝉的成绩\n",
      "请输入语文成绩：44\n",
      "请输入数学成绩：55\n",
      "请输入Python成绩：66\n",
      "[[1, 2, 3], [4, 5, 6], [7, 8, 9], [11, 22, 33], [44, 55, 66]]\n"
     ]
    }
   ],
   "source": [
    "def main():\n",
    "    names = ['关羽', '张飞', '赵云', '马超', '貂蝉']\n",
    "    subjects = ['语文', '数学', 'Python']\n",
    "    scores = [[0] * len(subjects) for _ in range(len(names))]\n",
    "    for row, name in enumerate(names):\n",
    "        print('%s的成绩' % name)\n",
    "        for col, subject in enumerate(subjects):\n",
    "            scores[row][col] = (int(input('请输入%s成绩：'% subject)))\n",
    "    print(scores)\n",
    "if __name__ == \"__main__\":\n",
    "    main()"
   ]
  },
  {
   "cell_type": "markdown",
   "metadata": {},
   "source": []
  },
  {
   "cell_type": "code",
   "execution_count": 3,
   "metadata": {},
   "outputs": [
    {
     "name": "stdout",
     "output_type": "stream",
     "text": [
      "第67天\n"
     ]
    }
   ],
   "source": [
    "def is_leap_year(y):\n",
    "    if y % 4 == 0 and y % 100 != 0 or y % 400 ==0:\n",
    "        return True\n",
    "    return False\n",
    "def which_day(year,month,day):\n",
    "    day_of_month = [[31, 28, 31, 30, 31, 30, 31, 31, 30, 31, 30, 31],[31, 29, 31, 30, 31, 30, 31, 31, 30, 31, 30, 31]][is_leap_year(year)]\n",
    "    total = 0\n",
    "    for index in range(month - 1):\n",
    "        total += day_of_month[index]\n",
    "    print('第%d天' % (total + day))\n",
    "which_day(2018,3,8)\n",
    "    "
   ]
  },
  {
   "cell_type": "code",
   "execution_count": 1,
   "metadata": {},
   "outputs": [
    {
     "name": "stdout",
     "output_type": "stream",
     "text": [
      "请输入用户名：admin\n",
      "请输入密码········\n",
      "欢迎您\n"
     ]
    }
   ],
   "source": [
    "import getpass\n",
    "username = input('请输入用户名：')\n",
    "password = getpass.getpass('请输入密码')\n",
    "if username == 'admin' and password == '121212':\n",
    "    print('欢迎您')\n",
    "else:\n",
    "    print('错误')"
   ]
  },
  {
   "cell_type": "code",
   "execution_count": null,
   "metadata": {},
   "outputs": [],
   "source": []
  }
 ],
 "metadata": {
  "kernelspec": {
   "display_name": "Python 3",
   "language": "python",
   "name": "python3"
  },
  "language_info": {
   "codemirror_mode": {
    "name": "ipython",
    "version": 3
   },
   "file_extension": ".py",
   "mimetype": "text/x-python",
   "name": "python",
   "nbconvert_exporter": "python",
   "pygments_lexer": "ipython3",
   "version": "3.6.4"
  }
 },
 "nbformat": 4,
 "nbformat_minor": 2
}
