{
 "cells": [
  {
   "cell_type": "code",
   "execution_count": 4,
   "metadata": {},
   "outputs": [
    {
     "name": "stdout",
     "output_type": "stream",
     "text": [
      "请输入一个三位数153\n",
      "是水仙花数!\n"
     ]
    }
   ],
   "source": [
    "#水仙数\n",
    "import math\n",
    "num = int (input('请输入一个三位数'))\n",
    "a = num % 10\n",
    "b = num // 10 % 10\n",
    "c = num // 100\n",
    "if num == pow(a, 3) + math.pow(b, 3) + math.pow(c, 3):\n",
    "    print('是水仙花数!')\n",
    "else:\n",
    "    print('不是!')"
   ]
  },
  {
   "cell_type": "code",
   "execution_count": 1,
   "metadata": {},
   "outputs": [
    {
     "name": "stdout",
     "output_type": "stream",
     "text": [
      "请输入:1\n",
      "大一点\n",
      "请输入:1\n",
      "大一点\n",
      "请输入:1\n",
      "大一点\n",
      "请输入:1\n",
      "大一点\n",
      "请输入:1\n",
      "大一点\n",
      "请输入:1\n",
      "大一点\n",
      "请输入:1\n",
      "大一点\n",
      "请输入:1\n",
      "大一点\n",
      "请输入:1\n",
      "大一点\n",
      "请输入:66\n",
      "小一点\n",
      "请输入:44\n",
      "小一点\n",
      "请输入:33\n",
      "小一点\n",
      "请输入:22\n",
      "大一点\n",
      "请输入:27\n",
      "大一点\n",
      "请输入:30\n",
      "小一点\n",
      "请输入:29\n",
      "小一点\n",
      "请输入:28\n",
      "恭喜你猜对了!\n",
      "智商捉急\n"
     ]
    }
   ],
   "source": [
    "from random import randint\n",
    "\n",
    "answer = randint(1,100)\n",
    "counter = 0\n",
    "\n",
    "while True:\n",
    "    your_answer = int(input('请输入:'))\n",
    "    counter +=1\n",
    "    if your_answer < answer:\n",
    "        print('大一点')\n",
    "    elif your_answer > answer:\n",
    "        print('小一点')\n",
    "    else:\n",
    "        print('恭喜你猜对了!')\n",
    "        break\n",
    "if counter > 7:\n",
    "    print('智商捉急')"
   ]
  },
  {
   "cell_type": "code",
   "execution_count": null,
   "metadata": {},
   "outputs": [],
   "source": []
  }
 ],
 "metadata": {
  "kernelspec": {
   "display_name": "Python 3",
   "language": "python",
   "name": "python3"
  },
  "language_info": {
   "codemirror_mode": {
    "name": "ipython",
    "version": 3
   },
   "file_extension": ".py",
   "mimetype": "text/x-python",
   "name": "python",
   "nbconvert_exporter": "python",
   "pygments_lexer": "ipython3",
   "version": "3.6.4"
  }
 },
 "nbformat": 4,
 "nbformat_minor": 2
}
