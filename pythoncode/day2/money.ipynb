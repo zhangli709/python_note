{
 "cells": [
  {
   "cell_type": "code",
   "execution_count": 1,
   "metadata": {},
   "outputs": [],
   "source": [
    "#计算个人所得税\n"
   ]
  },
  {
   "cell_type": "code",
   "execution_count": 11,
   "metadata": {},
   "outputs": [
    {
     "name": "stdout",
     "output_type": "stream",
     "text": [
      "请输入你的工资:12222\n",
      "五险一金:1111\n",
      "应缴纳个人所得税:967.20\n"
     ]
    }
   ],
   "source": [
    "money = float(input('请输入你的工资:'))\n",
    "insurance = float(input('五险一金:'))\n",
    "value = money - 3500 - insurance\n",
    "if 0 < value < 1500:\n",
    "    pay_value = value * 0.03 - 0\n",
    "    print('应缴纳个人所得税:%.2f' % pay_value)\n",
    "elif 1500 <= value <= 4500:\n",
    "    pay_value = value * 0.1 -105\n",
    "    print('应缴纳个人所得税:%.2f' % pay_value)\n",
    "elif 4500 <= value <= 9000:\n",
    "    pay_value = value * 0.2 -555\n",
    "    print('应缴纳个人所得税:%.2f' % pay_value)\n",
    "elif 9000 <= value <= 35000:\n",
    "    pay_value = value * 0.25 -1005\n",
    "    print('应缴纳个人所得税:%.2f' % pay_value)\n",
    "elif 35000 <= value <= 55000:\n",
    "    pay_value = value * 0.3 -2755\n",
    "    print('应缴纳个人所得税:%.2f' % pay_value)\n",
    "elif 55000 <= value <= 80000:\n",
    "    pay_value = value * 0.35 -5505\n",
    "    print('应缴纳个人所得税:%.2f' % pay_value)\n",
    "elif 80000 <= value:\n",
    "    pay_value = value * 0.45 -13505\n",
    "    print('应缴纳个人所得税:%.2f' % pay_value)\n",
    "elif -3500 <= value <= 0:\n",
    "    pay_value = 0\n",
    "    print('应缴纳个人所得税:%.2f' % pay_value)\n",
    "else:\n",
    "    print('请输入正确的工资!')"
   ]
  },
  {
   "cell_type": "code",
   "execution_count": 8,
   "metadata": {},
   "outputs": [
    {
     "name": "stdout",
     "output_type": "stream",
     "text": [
      "请输入数字:555\n",
      "大了!\n",
      "请输入数字:333\n",
      "小了\n",
      "请输入数字:444\n",
      "小了\n",
      "请输入数字:499\n",
      "小了\n",
      "请输入数字:522\n",
      "大了!\n",
      "请输入数字:511\n",
      "大了!\n",
      "请输入数字:505\n",
      "大了!\n",
      "请输入数字:502\n",
      "大了!\n",
      "请输入数字:501\n",
      "恭喜你答对了!\n",
      "智商捉急\n"
     ]
    }
   ],
   "source": [
    "from random import randint\n",
    "\n",
    "answer = randint(1,1000)\n",
    "num = 0\n",
    "while True:\n",
    "    num += 1\n",
    "    my_answer = int(input('请输入数字:'))\n",
    "    if my_answer == answer:\n",
    "        print('恭喜你答对了!')\n",
    "        break\n",
    "    elif my_answer > answer:\n",
    "        print('大了!')\n",
    "    elif my_answer < answer:\n",
    "        print(\"小了\")\n",
    "if num > 7:\n",
    "    print('智商捉急')\n",
    "        "
   ]
  },
  {
   "cell_type": "code",
   "execution_count": 12,
   "metadata": {},
   "outputs": [
    {
     "name": "stdout",
     "output_type": "stream",
     "text": [
      "请输入你的工资:12222\n",
      "五险一金:1111\n",
      "个人所得税:RMB967.20\n",
      "实际到手工资:RMB10143.80\n"
     ]
    }
   ],
   "source": [
    "import math\n",
    "salary = float(input('请输入你的工资:'))\n",
    "insurance = float(input('五险一金:'))\n",
    "diff = salary - 3500 - insurance\n",
    "if diff <= 0:\n",
    "    tax = 0 \n",
    "    deduction = 0\n",
    "elif diff <=1500:\n",
    "    tax = 0.03\n",
    "    deduction = 0\n",
    "elif diff <= 4500:\n",
    "    tax = 0.1\n",
    "    deduction = 105\n",
    "elif diff <= 9000:\n",
    "    tax = 0.2\n",
    "    deduction = 555\n",
    "elif diff <= 35000:\n",
    "    tax = 0.25\n",
    "    deduction = 1005 \n",
    "elif diff <= 55000:\n",
    "    tax = 0.3\n",
    "    deduction = 2755 \n",
    "elif diff <= 80000:\n",
    "    tax = 0.35\n",
    "    deduction = 5505\n",
    "else:\n",
    "    tax = 0.45\n",
    "    deduction = 13505\n",
    "personal = abs(diff * tax -deduction)\n",
    "print('个人所得税:RMB%.2f' % personal)\n",
    "print('实际到手工资:RMB%.2f' % (salary - insurance - personal))\n",
    "    "
   ]
  },
  {
   "cell_type": "code",
   "execution_count": 3,
   "metadata": {},
   "outputs": [
    {
     "name": "stdout",
     "output_type": "stream",
     "text": [
      "请输入要掷色子的次数:222\n",
      "1点摇出了33次\n",
      "2点摇出了38次\n",
      "3点摇出了48次\n",
      "4点摇出了42次\n",
      "5点摇出了35次\n",
      "6点摇出了26次\n"
     ]
    }
   ],
   "source": [
    "from random import randint\n",
    "\n",
    "f1 = 0\n",
    "f2 = 0\n",
    "f3 = 0\n",
    "f4 = 0\n",
    "f5 = 0\n",
    "f6 = 0\n",
    "x =int(input('请输入要掷色子的次数:'))\n",
    "for _ in range(x):\n",
    "    number =randint(1,6)\n",
    "    if number == 1:\n",
    "        f1 +=1\n",
    "    elif number == 2:\n",
    "        f2 +=1\n",
    "    elif number == 3:\n",
    "        f3 +=1\n",
    "    elif number == 4:\n",
    "        f4 +=1\n",
    "    elif number == 5:\n",
    "        f5 +=1\n",
    "    else:\n",
    "        f6 +=1\n",
    "print('1点摇出了%d次' %(f1))\n",
    "print('2点摇出了%d次' %(f2))\n",
    "print('3点摇出了%d次' %(f3))\n",
    "print('4点摇出了%d次' %(f4))\n",
    "print('5点摇出了%d次' %(f5))\n",
    "print('6点摇出了%d次' %(f6))"
   ]
  },
  {
   "cell_type": "code",
   "execution_count": null,
   "metadata": {},
   "outputs": [],
   "source": []
  }
 ],
 "metadata": {
  "kernelspec": {
   "display_name": "Python 3",
   "language": "python",
   "name": "python3"
  },
  "language_info": {
   "codemirror_mode": {
    "name": "ipython",
    "version": 3
   },
   "file_extension": ".py",
   "mimetype": "text/x-python",
   "name": "python",
   "nbconvert_exporter": "python",
   "pygments_lexer": "ipython3",
   "version": "3.6.4"
  }
 },
 "nbformat": 4,
 "nbformat_minor": 2
}
