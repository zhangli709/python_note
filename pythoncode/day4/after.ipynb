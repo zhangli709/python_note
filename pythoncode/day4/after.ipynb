{
 "cells": [
  {
   "cell_type": "code",
   "execution_count": null,
   "metadata": {},
   "outputs": [],
   "source": [
    "#循环\n",
    "'''\n",
    "穷举法.穷尽所有的可能行,直到找到答案!\n",
    "'''\n",
    "for x in range(21):\n",
    "    for y in range(34):\n",
    "        #for z in range(0, 100, 3):\n",
    "        z = 100 - x - y\n",
    "        if  5 * x + 3 * y + z // 3 == 100 and z % 3 == 0:\n",
    "            print(x, y ,z)\n",
    "        "
   ]
  },
  {
   "cell_type": "code",
   "execution_count": 6,
   "metadata": {},
   "outputs": [
    {
     "data": {
      "text/plain": [
       "1"
      ]
     },
     "execution_count": 6,
     "metadata": {},
     "output_type": "execute_result"
    }
   ],
   "source": [
    "print(0.1 + 0.2 + 0.3)\n",
    "print(0.3 + 0.2 + 0.1)\n",
    "#由于浮点数表示法的问题,\n",
    "#在实际开发的过程中请不要做浮点数的==和!=运算.\n",
    "#实在要用,一定要先转换成int再计算,算完再转换回去."
   ]
  },
  {
   "cell_type": "code",
   "execution_count": 7,
   "metadata": {},
   "outputs": [
    {
     "data": {
      "text/plain": [
       "24276"
      ]
     },
     "execution_count": 7,
     "metadata": {},
     "output_type": "execute_result"
    }
   ],
   "source": [
    "21* 34*34"
   ]
  },
  {
   "cell_type": "code",
   "execution_count": 11,
   "metadata": {},
   "outputs": [
    {
     "name": "stdout",
     "output_type": "stream",
     "text": [
      "153是水仙花数\n",
      "370是水仙花数\n",
      "371是水仙花数\n",
      "407是水仙花数\n"
     ]
    }
   ],
   "source": [
    "for num in range(100,999):\n",
    "    a = num % 10\n",
    "    b = num //10 % 10\n",
    "    c = num //100\n",
    "    if num == pow(a, 3) + pow(b, 3) + pow(c, 3):\n",
    "        print('%d是水仙花数' % num)\n"
   ]
  },
  {
   "cell_type": "code",
   "execution_count": 12,
   "metadata": {},
   "outputs": [
    {
     "ename": "SyntaxError",
     "evalue": "invalid syntax (<ipython-input-12-27667b0d32ad>, line 1)",
     "output_type": "error",
     "traceback": [
      "\u001b[1;36m  File \u001b[1;32m\"<ipython-input-12-27667b0d32ad>\"\u001b[1;36m, line \u001b[1;32m1\u001b[0m\n\u001b[1;33m    10000以内的完美数,\u001b[0m\n\u001b[1;37m              ^\u001b[0m\n\u001b[1;31mSyntaxError\u001b[0m\u001b[1;31m:\u001b[0m invalid syntax\n"
     ]
    }
   ],
   "source": [
    "10000以内的完美数,\n",
    "6 = 1 + 2 + 3\n",
    "28 = 1 + 2 + 4 + 7 + 14"
   ]
  },
  {
   "cell_type": "code",
   "execution_count": null,
   "metadata": {},
   "outputs": [],
   "source": [
    "z = 0\n",
    "for num in range(1,10000):\n",
    "    for x in range(2,10000):\n",
    "        for y in range(2,10000):\n",
    "            if x * y == num:\n",
    "                z = x + y + z\n",
    "    if num == z + 1:\n",
    "        print('%d是水仙数' % num)\n",
    "                "
   ]
  },
  {
   "cell_type": "code",
   "execution_count": null,
   "metadata": {},
   "outputs": [],
   "source": []
  }
 ],
 "metadata": {
  "kernelspec": {
   "display_name": "Python 3",
   "language": "python",
   "name": "python3"
  },
  "language_info": {
   "codemirror_mode": {
    "name": "ipython",
    "version": 3
   },
   "file_extension": ".py",
   "mimetype": "text/x-python",
   "name": "python",
   "nbconvert_exporter": "python",
   "pygments_lexer": "ipython3",
   "version": "3.6.4"
  }
 },
 "nbformat": 4,
 "nbformat_minor": 2
}
