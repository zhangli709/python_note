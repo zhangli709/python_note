{
 "cells": [
  {
   "cell_type": "markdown",
   "metadata": {},
   "source": [
    "\n"
   ]
  },
  {
   "cell_type": "markdown",
   "metadata": {},
   "source": [
    "# 第一周总结复习\n",
    "## 变量\n",
    "\n",
    " \n",
    " - Python 是一种解释性语言,最大优点:可以跨平台使用.开发效率高 最大缺点:执行效率低下.\n",
    " \n",
    " 2.今天计算机硬件已经足够发达,我们追求的是程序的开发效率而不是执行效率.\n",
    " \n",
    " 3.Python[官方网站](http://python.org),\n",
    " \n",
    " 4.我们可以使用Python的包管理工具pip来安装第三方模块,\n",
    " >**说明**:如果要在Linux 环境下更新到Python3.x版本,需要通过源代码来实现.\n",
    " \n",
    "```Shell\n",
    "pip install ipython jupyter\n",
    "   \n",
    "```\n",
    "或\n",
    "```Shell\n",
    "python -m pip install ipython jupyter\n",
    "\n",
    "```\n",
    " 5.第一个Python程序 -hello, world\n",
    " ```Python\n",
    "\"\"\"\n",
    "第一个Python程序\n",
    "\n",
    "Version:0.5\n",
    "Author:张立\n",
    "Date:2018-3-2\n",
    "Modifier:王大翠\n",
    "Date:2018-4-5\n",
    "\"\"\"\n",
    "print('hello, world!)\n",
    " ```\n",
    "  - 如果想用交互式环境进行Python开发,用ipython和jupyter notebook都可.\n",
    "```Shell\n",
    "\n",
    "jupyter notebook\n",
    "\n",
    "```\n",
    " - 以后要使用pythonch\n",
    " \n",
    " 1.变量的作用:变量是数据的载体,\n",
    "\n",
    " 2.变量的命名:\n",
    "     规则:\n",
    "          1.由数字,字母和下划线组成,且不能由数字开头.\n",
    "          2.不能用关键字命名,不能用特殊字符.\n",
    "          3.区分大小写.大写为常量,\n",
    " 3.变量的类型:\n",
    " \n",
    "## 运算符\n",
    " 1.赋值运算符\n",
    " 2.算数运算符\n",
    "    + - * / // % **\n",
    " 3.关系运算符\n",
    "   < <= > >= == !=  \n",
    " 4.逻辑运算符\n",
    "    and or not-逻辑变反\n",
    " 5.身份运算符\n",
    "    is \n",
    "## 分支结构  **\n",
    "    1.缩进-4个空格, \n",
    "    2.后面接冒号\n",
    "## 循环结构  **\n",
    "    1.for 循环 已知次数\n",
    "    2.while 不知次数   设定一个True条件,直到满足条件后,推出循环."
   ]
  },
  {
   "cell_type": "markdown",
   "metadata": {},
   "source": []
  },
  {
   "cell_type": "code",
   "execution_count": 2,
   "metadata": {},
   "outputs": [
    {
     "name": "stdout",
     "output_type": "stream",
     "text": [
      "hello\n"
     ]
    }
   ],
   "source": [
    "print('hello')"
   ]
  },
  {
   "cell_type": "code",
   "execution_count": 5,
   "metadata": {},
   "outputs": [
    {
     "data": {
      "text/plain": [
       "100"
      ]
     },
     "execution_count": 5,
     "metadata": {},
     "output_type": "execute_result"
    }
   ],
   "source": [
    "\n",
    "pow(10, 2)"
   ]
  },
  {
   "cell_type": "code",
   "execution_count": 6,
   "metadata": {},
   "outputs": [
    {
     "name": "stdout",
     "output_type": "stream",
     "text": [
      "please input the number of row:>>>>>5\n",
      "    *\n",
      "   **\n",
      "  ***\n",
      " ****\n",
      "*****\n"
     ]
    }
   ],
   "source": [
    "row = int(input(\"please input the number of row:>>>>>\"))\n",
    "for i in range(row):\n",
    "    for j in range(row):\n",
    "        if j < row - i - 1:\n",
    "            print(' ', end = '')\n",
    "        else:\n",
    "            print('*', end = '')\n",
    "    print()"
   ]
  },
  {
   "cell_type": "code",
   "execution_count": 1,
   "metadata": {},
   "outputs": [
    {
     "ename": "SyntaxError",
     "evalue": "invalid syntax (<ipython-input-1-b852521b23e1>, line 1)",
     "output_type": "error",
     "traceback": [
      "\u001b[1;36m  File \u001b[1;32m\"<ipython-input-1-b852521b23e1>\"\u001b[1;36m, line \u001b[1;32m1\u001b[0m\n\u001b[1;33m    python this\u001b[0m\n\u001b[1;37m              ^\u001b[0m\n\u001b[1;31mSyntaxError\u001b[0m\u001b[1;31m:\u001b[0m invalid syntax\n"
     ]
    }
   ],
   "source": [
    "python this\n"
   ]
  },
  {
   "cell_type": "code",
   "execution_count": 2,
   "metadata": {},
   "outputs": [
    {
     "name": "stdout",
     "output_type": "stream",
     "text": [
      "The Zen of Python, by Tim Peters\n",
      "\n",
      "Beautiful is better than ugly.\n",
      "Explicit is better than implicit.\n",
      "Simple is better than complex.\n",
      "Complex is better than complicated.\n",
      "Flat is better than nested.\n",
      "Sparse is better than dense.\n",
      "Readability counts.\n",
      "Special cases aren't special enough to break the rules.\n",
      "Although practicality beats purity.\n",
      "Errors should never pass silently.\n",
      "Unless explicitly silenced.\n",
      "In the face of ambiguity, refuse the temptation to guess.\n",
      "There should be one-- and preferably only one --obvious way to do it.\n",
      "Although that way may not be obvious at first unless you're Dutch.\n",
      "Now is better than never.\n",
      "Although never is often better than *right* now.\n",
      "If the implementation is hard to explain, it's a bad idea.\n",
      "If the implementation is easy to explain, it may be a good idea.\n",
      "Namespaces are one honking great idea -- let's do more of those!\n"
     ]
    }
   ],
   "source": [
    "import this"
   ]
  },
  {
   "cell_type": "code",
   "execution_count": null,
   "metadata": {},
   "outputs": [],
   "source": []
  }
 ],
 "metadata": {
  "kernelspec": {
   "display_name": "Python 3",
   "language": "python",
   "name": "python3"
  },
  "language_info": {
   "codemirror_mode": {
    "name": "ipython",
    "version": 3
   },
   "file_extension": ".py",
   "mimetype": "text/x-python",
   "name": "python",
   "nbconvert_exporter": "python",
   "pygments_lexer": "ipython3",
   "version": "3.6.4"
  }
 },
 "nbformat": 4,
 "nbformat_minor": 2
}
