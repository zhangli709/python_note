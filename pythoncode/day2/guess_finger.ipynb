{
 "cells": [
  {
   "cell_type": "code",
   "execution_count": null,
   "metadata": {},
   "outputs": [
    {
     "name": "stdout",
     "output_type": "stream",
     "text": [
      "请出招!1\n",
      "玩家赢\n",
      "1001\n",
      "请出招!2\n",
      "打成平手\n",
      "1001\n"
     ]
    }
   ],
   "source": [
    "from random import randint\n",
    "\n",
    "\n",
    "#1=石头\n",
    "#2=剪刀\n",
    "#3 = 布\n",
    "num = 1000\n",
    "while 0 <= num <= 2000:\n",
    "    answer = int(input('请出招!'))\n",
    "    computer_answer = randint(1,3)\n",
    "    if answer == computer_answer:\n",
    "        print('打成平手')\n",
    "        print(num)\n",
    "    elif answer == 1 and computer_answer == 2:\n",
    "        print('玩家赢')\n",
    "        num += 1\n",
    "        print(num)\n",
    "    elif answer == 1 and computer_answer == 3:\n",
    "        print('电脑赢')\n",
    "        num -= 1\n",
    "        print(num)\n",
    "    elif answer == 2 and computer_answer == 3:\n",
    "        print('玩家赢')\n",
    "        num += 1\n",
    "        print(num)\n",
    "    elif answer == 2 and computer_answer == 1:\n",
    "        print('电脑赢')\n",
    "        num -= 1\n",
    "        print(num)\n",
    "    elif answer == 3 and computer_answer == 1:\n",
    "        print('玩家赢')\n",
    "        num += 1\n",
    "        print(num)\n",
    "    elif answer == 3 and computer_answer == 2:\n",
    "        print('电脑赢')\n",
    "        num -= 1\n",
    "        print(num)\n",
    "    else:\n",
    "        print('请输入有效数字')\n",
    "print('game over')"
   ]
  },
  {
   "cell_type": "code",
   "execution_count": 3,
   "metadata": {},
   "outputs": [],
   "source": []
  },
  {
   "cell_type": "code",
   "execution_count": 3,
   "metadata": {},
   "outputs": [],
   "source": []
  },
  {
   "cell_type": "code",
   "execution_count": 3,
   "metadata": {},
   "outputs": [],
   "source": []
  },
  {
   "cell_type": "code",
   "execution_count": 3,
   "metadata": {},
   "outputs": [],
   "source": []
  },
  {
   "cell_type": "code",
   "execution_count": 3,
   "metadata": {},
   "outputs": [],
   "source": []
  },
  {
   "cell_type": "code",
   "execution_count": 3,
   "metadata": {},
   "outputs": [],
   "source": []
  },
  {
   "cell_type": "code",
   "execution_count": null,
   "metadata": {},
   "outputs": [],
   "source": []
  }
 ],
 "metadata": {
  "kernelspec": {
   "display_name": "Python 3",
   "language": "python",
   "name": "python3"
  },
  "language_info": {
   "codemirror_mode": {
    "name": "ipython",
    "version": 3
   },
   "file_extension": ".py",
   "mimetype": "text/x-python",
   "name": "python",
   "nbconvert_exporter": "python",
   "pygments_lexer": "ipython3",
   "version": "3.6.4"
  }
 },
 "nbformat": 4,
 "nbformat_minor": 2
}
