{
 "cells": [
  {
   "cell_type": "code",
   "execution_count": null,
   "metadata": {},
   "outputs": [],
   "source": [
    "#10点54分"
   ]
  },
  {
   "cell_type": "code",
   "execution_count": 2,
   "metadata": {},
   "outputs": [
    {
     "name": "stdout",
     "output_type": "stream",
     "text": [
      "请输入第一个整数:333\n",
      "请输入第二个整数:444\n",
      "请输入第三个整数:222\n",
      "最大的整数为:444\n"
     ]
    }
   ],
   "source": [
    "import math\n",
    "a = int(input('请输入第一个整数:'))\n",
    "b = int(input('请输入第二个整数:'))\n",
    "c = int(input('请输入第三个整数:'))\n",
    "d = max(a, b , c)\n",
    "print('最大的整数为:%d' %d)"
   ]
  },
  {
   "cell_type": "code",
   "execution_count": 3,
   "metadata": {},
   "outputs": [
    {
     "ename": "SyntaxError",
     "evalue": "invalid syntax (<ipython-input-3-1f6a8e34a3e0>, line 1)",
     "output_type": "error",
     "traceback": [
      "\u001b[1;36m  File \u001b[1;32m\"<ipython-input-3-1f6a8e34a3e0>\"\u001b[1;36m, line \u001b[1;32m1\u001b[0m\n\u001b[1;33m    from math mport max\u001b[0m\n\u001b[1;37m                  ^\u001b[0m\n\u001b[1;31mSyntaxError\u001b[0m\u001b[1;31m:\u001b[0m invalid syntax\n"
     ]
    }
   ],
   "source": [
    " from math mport max\n",
    "a = int(input('请输入第一个整数:'))\n",
    "b = int(input('请输入第二个整数:'))\n",
    "c = int(input('请输入第三个整数:'))\n",
    "\n",
    "print('最大的整数为:%f' % str(max(a, b, c)))"
   ]
  },
  {
   "cell_type": "code",
   "execution_count": null,
   "metadata": {},
   "outputs": [],
   "source": [
    "# a > b and a or b  如果a大于b, 则取a ,否则取b."
   ]
  },
  {
   "cell_type": "code",
   "execution_count": 3,
   "metadata": {},
   "outputs": [
    {
     "name": "stdout",
     "output_type": "stream",
     "text": [
      "请输入第一个整数:3\n",
      "请输入第二个整数:4\n",
      "请输入第三个整数:5\n",
      "3 4 5\n"
     ]
    }
   ],
   "source": [
    "#输入3个数,按照从小到大输出\n",
    "import math\n",
    "a = int(input('请输入第一个整数:'))\n",
    "b = int(input('请输入第二个整数:'))\n",
    "c = int(input('请输入第三个整数:'))\n",
    "d = max(a, b, c)\n",
    "f = min(a, b, c)\n",
    "if f < a < d:\n",
    "    g = a\n",
    "if f < b < d:\n",
    "    g = b\n",
    "if f < c < d:\n",
    "    g = c\n",
    "\n",
    "print(f, g, d)"
   ]
  },
  {
   "cell_type": "code",
   "execution_count": 7,
   "metadata": {},
   "outputs": [
    {
     "name": "stdout",
     "output_type": "stream",
     "text": [
      "a =22\n",
      "b =22\n",
      "c =33\n",
      "22 22 33\n"
     ]
    }
   ],
   "source": [
    "#如何交换两个变量值   a, b = b, a\n",
    "'''\n",
    "temp = a\n",
    "a = b \n",
    "b = temp\n",
    "'''\n",
    "a = int(input('a ='))\n",
    "b = int(input('b ='))\n",
    "c = int(input('c ='))\n",
    "'''\n",
    "if a > b:\n",
    "    a, b = b, a\n",
    "if b > c:\n",
    "    b, c = c, b\n",
    "if a > b:\n",
    "    a, b = b, a\n",
    "print(a, b , c)'''\n",
    "(a, b) = a > b and (b, a) or (a, b)\n",
    "(b, c) = b > c and (c, b) or (b, c)\n",
    "(a, b) = a > b and (b, a) or (a, b)\n",
    "print(a, b, c)"
   ]
  },
  {
   "cell_type": "code",
   "execution_count": null,
   "metadata": {},
   "outputs": [],
   "source": [
    "#定义函数的规则:\n",
    "'''\n",
    "函数要以def关键字开头,后接函数标识符名称和圆括号()\n",
    "任何传入参数和自变量必须放在圆括号中间,圆括号之间可以用于定义参数\n",
    "函数的第一行语句可以选择性地使用文档字符串_用于存放函数说明\n",
    "函数内容以冒号起始,并且缩进\n",
    "return[表达式]结束函数,选择性地返回一个值给调用方,不带表达式的return相当于返回None\n",
    "\n",
    "'''"
   ]
  },
  {
   "cell_type": "code",
   "execution_count": 22,
   "metadata": {},
   "outputs": [
    {
     "name": "stdout",
     "output_type": "stream",
     "text": [
      "请输入一个数:33\n",
      "33他是质数!\n"
     ]
    }
   ],
   "source": [
    "#质数\n",
    "import math\n",
    "a = int(input('请输入一个数:'))\n",
    "for b in range(2, a):\n",
    "    c = a % b \n",
    "    if c == 0:\n",
    "        print('他不是质数!')\n",
    "        break\n",
    "    if c != 0:\n",
    "        print('%a他是质数!' % a)\n",
    "        break"
   ]
  },
  {
   "cell_type": "code",
   "execution_count": 20,
   "metadata": {},
   "outputs": [
    {
     "name": "stdout",
     "output_type": "stream",
     "text": [
      "请输入一个数:57\n",
      "57他不是质数\n"
     ]
    }
   ],
   "source": [
    "a = int(input('请输入一个数:'))\n",
    "is_prime = True\n",
    "for b in range(2, a):\n",
    "    c = a % b \n",
    "    if c == 0:\n",
    "        is_prime = False\n",
    "        break\n",
    "if is_prime:\n",
    "    print('%d他是质数!' % a)\n",
    "else:\n",
    "    print('%d他不是质数' % a)"
   ]
  },
  {
   "cell_type": "code",
   "execution_count": 27,
   "metadata": {},
   "outputs": [
    {
     "name": "stdout",
     "output_type": "stream",
     "text": [
      "请输入一个数字:22\n",
      "22不是质数\n"
     ]
    }
   ],
   "source": [
    "from math import sqrt\n",
    "a = int(input('请输入一个数字:'))\n",
    "is_prime = True\n",
    "for b in range(2, int(sqrt(a)) + 1):\n",
    "    if a % b ==0:\n",
    "        is_prime = False\n",
    "        break\n",
    "if is_prime == False:\n",
    "    print('%d不是质数' % a)\n",
    "else:\n",
    "    print('%d是质数' % a)"
   ]
  },
  {
   "cell_type": "code",
   "execution_count": 36,
   "metadata": {},
   "outputs": [
    {
     "name": "stdout",
     "output_type": "stream",
     "text": [
      "2是质数\n",
      "3是质数\n",
      "5是质数\n",
      "7是质数\n",
      "11是质数\n",
      "13是质数\n",
      "17是质数\n",
      "19是质数\n",
      "23是质数\n",
      "29是质数\n",
      "31是质数\n",
      "37是质数\n",
      "41是质数\n",
      "43是质数\n",
      "47是质数\n",
      "53是质数\n",
      "59是质数\n",
      "61是质数\n",
      "67是质数\n",
      "71是质数\n",
      "73是质数\n",
      "79是质数\n",
      "83是质数\n",
      "89是质数\n",
      "97是质数\n"
     ]
    }
   ],
   "source": [
    "from math import sqrt\n",
    "for a in range(2,101):\n",
    "    is_prime = True\n",
    "    for b in range(2, int(sqrt(a)) + 1):\n",
    "        if a % b ==0:\n",
    "            is_prime = False\n",
    "            break\n",
    "    if is_prime:\n",
    "        print('%d是质数' % a)"
   ]
  },
  {
   "cell_type": "code",
   "execution_count": 39,
   "metadata": {},
   "outputs": [
    {
     "name": "stdout",
     "output_type": "stream",
     "text": [
      "1*1=1\t\n",
      "2*1=2\t2*2=4\t\n",
      "3*1=3\t3*2=6\t3*3=9\t\n",
      "4*1=4\t4*2=8\t4*3=12\t4*4=16\t\n",
      "5*1=5\t5*2=10\t5*3=15\t5*4=20\t5*5=25\t\n",
      "6*1=6\t6*2=12\t6*3=18\t6*4=24\t6*5=30\t6*6=36\t\n",
      "7*1=7\t7*2=14\t7*3=21\t7*4=28\t7*5=35\t7*6=42\t7*7=49\t\n",
      "8*1=8\t8*2=16\t8*3=24\t8*4=32\t8*5=40\t8*6=48\t8*7=56\t8*8=64\t\n",
      "9*1=9\t9*2=18\t9*3=27\t9*4=36\t9*5=45\t9*6=54\t9*7=63\t9*8=72\t9*9=81\t\n"
     ]
    }
   ],
   "source": [
    "#九九乘法表\n",
    "for row in range(1, 10):\n",
    "    for col in range(1, row + 1):\n",
    "        print('%d*%d=%d' % (row, col, row * col), end='\\t')#制表符\n",
    "    print()#换行用,"
   ]
  },
  {
   "cell_type": "code",
   "execution_count": null,
   "metadata": {},
   "outputs": [],
   "source": [
    "# end=':'  相当于默认,  sep=':',  分隔符. end = '\\t' 制表符     \\n,换行."
   ]
  },
  {
   "cell_type": "code",
   "execution_count": 42,
   "metadata": {},
   "outputs": [
    {
     "name": "stdout",
     "output_type": "stream",
     "text": [
      "*\n",
      "**\n",
      "***\n",
      "****\n",
      "*****\n"
     ]
    }
   ],
   "source": [
    "for n in range(1,6):\n",
    "    print('*'* n )\n",
    "   "
   ]
  },
  {
   "cell_type": "code",
   "execution_count": 49,
   "metadata": {},
   "outputs": [
    {
     "name": "stdout",
     "output_type": "stream",
     "text": [
      "1\n",
      "12\n",
      "123\n",
      "1234\n",
      "12345\n"
     ]
    }
   ],
   "source": [
    "for row in range(1, 6):\n",
    "    for col in range(1, row + 1):\n",
    "        \n",
    "        print(col, end='')\n",
    "    print()"
   ]
  },
  {
   "cell_type": "code",
   "execution_count": 54,
   "metadata": {},
   "outputs": [
    {
     "name": "stdout",
     "output_type": "stream",
     "text": [
      "1\n",
      "12\n",
      "125\n",
      "1254\n",
      "12545\n"
     ]
    }
   ],
   "source": [
    "for row in range(1, 6):\n",
    "    for col in range(1, row + 1):\n",
    "        print chr(col, end='')\n",
    "    print()"
   ]
  },
  {
   "cell_type": "code",
   "execution_count": 57,
   "metadata": {},
   "outputs": [
    {
     "ename": "SyntaxError",
     "evalue": "invalid syntax (<ipython-input-57-655621589696>, line 2)",
     "output_type": "error",
     "traceback": [
      "\u001b[1;36m  File \u001b[1;32m\"<ipython-input-57-655621589696>\"\u001b[1;36m, line \u001b[1;32m2\u001b[0m\n\u001b[1;33m    print chr(i + ord('A'))\u001b[0m\n\u001b[1;37m            ^\u001b[0m\n\u001b[1;31mSyntaxError\u001b[0m\u001b[1;31m:\u001b[0m invalid syntax\n"
     ]
    }
   ],
   "source": [
    "for ch in xrange(26):\n",
    "    print chr(i + ord('A'))"
   ]
  },
  {
   "cell_type": "code",
   "execution_count": 62,
   "metadata": {},
   "outputs": [
    {
     "name": "stdout",
     "output_type": "stream",
     "text": [
      "a\n"
     ]
    }
   ],
   "source": [
    "print(chr(97))"
   ]
  },
  {
   "cell_type": "code",
   "execution_count": 72,
   "metadata": {},
   "outputs": [
    {
     "name": "stdout",
     "output_type": "stream",
     "text": [
      "65\n",
      "66\n",
      "67\n",
      "68\n",
      "69\n",
      "70\n"
     ]
    }
   ],
   "source": [
    "print(ord('A'))\n",
    "print(ord('B'))\n",
    "print(ord('C'))\n",
    "print(ord('D'))\n",
    "print(ord('E'))\n",
    "print(ord('F'))\n"
   ]
  },
  {
   "cell_type": "code",
   "execution_count": 7,
   "metadata": {},
   "outputs": [
    {
     "name": "stdout",
     "output_type": "stream",
     "text": [
      "\n",
      "\n",
      "\n",
      "\n",
      "\n"
     ]
    }
   ],
   "source": [
    "for row in range (1,6):\n",
    "    for col in range(65 + row , row + 65):\n",
    "        print(chr(col) * row ,end = '\\t')\n",
    "    print()\n",
    "    "
   ]
  },
  {
   "cell_type": "code",
   "execution_count": 86,
   "metadata": {},
   "outputs": [
    {
     "name": "stdout",
     "output_type": "stream",
     "text": [
      "1534\n"
     ]
    }
   ],
   "source": [
    "x = 1\n",
    "for n in range(1,10):\n",
    "    y = (1 + x) * 2\n",
    "    x = y\n",
    "print(x)\n",
    "#猴子吃桃!"
   ]
  },
  {
   "cell_type": "code",
   "execution_count": null,
   "metadata": {},
   "outputs": [],
   "source": [
    "5个人抓鱼,a分成五份,多一,扔掉.不b,c,d,e同样\n",
    "\n",
    "100块钱买鸡100,公鸡五元一只,母鸡三元一只,小鸡1元3只,"
   ]
  },
  {
   "cell_type": "code",
   "execution_count": 88,
   "metadata": {},
   "outputs": [
    {
     "ename": "NameError",
     "evalue": "name 'z' is not defined",
     "output_type": "error",
     "traceback": [
      "\u001b[1;31m---------------------------------------------------------------------------\u001b[0m",
      "\u001b[1;31mNameError\u001b[0m                                 Traceback (most recent call last)",
      "\u001b[1;32m<ipython-input-88-082aff072644>\u001b[0m in \u001b[0;36m<module>\u001b[1;34m()\u001b[0m\n\u001b[0;32m      1\u001b[0m \u001b[1;32mimport\u001b[0m \u001b[0mmath\u001b[0m\u001b[1;33m\u001b[0m\u001b[0m\n\u001b[1;32m----> 2\u001b[1;33m \u001b[1;36m5\u001b[0m \u001b[1;33m*\u001b[0m \u001b[0mx\u001b[0m \u001b[1;33m+\u001b[0m \u001b[1;36m3\u001b[0m \u001b[1;33m*\u001b[0m \u001b[0my\u001b[0m \u001b[1;33m+\u001b[0m \u001b[0mz\u001b[0m \u001b[1;33m//\u001b[0m \u001b[1;36m3\u001b[0m \u001b[1;33m==\u001b[0m \u001b[1;36m100\u001b[0m \u001b[1;32mand\u001b[0m \u001b[0mx\u001b[0m \u001b[1;33m+\u001b[0m \u001b[0my\u001b[0m \u001b[1;33m+\u001b[0m \u001b[0mz\u001b[0m \u001b[1;33m==\u001b[0m \u001b[1;36m100\u001b[0m\u001b[1;33m\u001b[0m\u001b[0m\n\u001b[0m\u001b[0;32m      3\u001b[0m \u001b[0mz\u001b[0m \u001b[1;33m%\u001b[0m \u001b[1;36m3\u001b[0m \u001b[1;33m==\u001b[0m \u001b[1;36m0\u001b[0m\u001b[1;33m\u001b[0m\u001b[0m\n\u001b[0;32m      4\u001b[0m \u001b[0mprint\u001b[0m\u001b[1;33m(\u001b[0m\u001b[0mx\u001b[0m\u001b[1;33m,\u001b[0m \u001b[0my\u001b[0m \u001b[1;33m,\u001b[0m \u001b[0mz\u001b[0m\u001b[1;33m)\u001b[0m\u001b[1;33m\u001b[0m\u001b[0m\n",
      "\u001b[1;31mNameError\u001b[0m: name 'z' is not defined"
     ]
    }
   ],
   "source": [
    "import math\n",
    "5 * x + 3 * y + z // 3 == 100 and x + y + z == 100\n",
    "z % 3 == 0\n",
    "print(x, y , z)"
   ]
  },
  {
   "cell_type": "code",
   "execution_count": null,
   "metadata": {},
   "outputs": [],
   "source": []
  }
 ],
 "metadata": {
  "kernelspec": {
   "display_name": "Python 3",
   "language": "python",
   "name": "python3"
  },
  "language_info": {
   "codemirror_mode": {
    "name": "ipython",
    "version": 3
   },
   "file_extension": ".py",
   "mimetype": "text/x-python",
   "name": "python",
   "nbconvert_exporter": "python",
   "pygments_lexer": "ipython3",
   "version": "3.6.4"
  }
 },
 "nbformat": 4,
 "nbformat_minor": 2
}
