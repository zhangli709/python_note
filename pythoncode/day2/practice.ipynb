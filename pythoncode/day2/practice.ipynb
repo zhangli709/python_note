{
 "cells": [
  {
   "cell_type": "code",
   "execution_count": 1,
   "metadata": {},
   "outputs": [
    {
     "data": {
      "text/plain": [
       "'\\n1.turtle模块绘制更复杂的图形\\n2.反转猜数字\\n3.人机猜拳.(计算机产生随机数表示剪刀石头布.1000.)\\n4.计算个人所得税.(总收入-五险一金) = x\\n       (x - 各档线) * 税率-速算扣除数\\n   \\n'"
      ]
     },
     "execution_count": 1,
     "metadata": {},
     "output_type": "execute_result"
    }
   ],
   "source": [
    "'''\n",
    "1.turtle模块绘制更复杂的图形\n",
    "2.反转猜数字\n",
    "3.人机猜拳.(计算机产生随机数表示剪刀石头布.1000.)\n",
    "4.计算个人所得税.(总收入-五险一金) = x\n",
    "       (x - 各档线) * 税率-速算扣除数\n",
    "   \n",
    "'''\n"
   ]
  },
  {
   "cell_type": "code",
   "execution_count": 2,
   "metadata": {},
   "outputs": [],
   "source": [
    "import turtle\n",
    "\n",
    "\n",
    "for x in range(5):\n",
    "    turtle.right(72)\n",
    "    turtle.forward(40)"
   ]
  },
  {
   "cell_type": "code",
   "execution_count": 1,
   "metadata": {},
   "outputs": [
    {
     "name": "stdout",
     "output_type": "stream",
     "text": [
      "请输入让电脑猜的数字:66\n",
      "81\n",
      "小一点\n",
      "51\n",
      "大一点\n",
      "52\n",
      "大一点\n",
      "61\n",
      "大一点\n",
      "76\n",
      "小一点\n",
      "65\n",
      "大一点\n",
      "75\n",
      "小一点\n",
      "74\n",
      "小一点\n",
      "66\n",
      "恭喜答对了!\n"
     ]
    }
   ],
   "source": [
    "from random import randint\n",
    "\n",
    "answer = int(input('请输入让电脑猜的数字:'))\n",
    "x = 1\n",
    "y = 100\n",
    "while True:\n",
    "    computer_answer = randint(x,y)\n",
    "    print(computer_answer)\n",
    "    if computer_answer > answer:\n",
    "        print('小一点')\n",
    "        y = computer_answer \n",
    "    elif computer_answer < answer:\n",
    "        print('大一点')\n",
    "        x = computer_answer \n",
    "    else:\n",
    "        print('恭喜答对了!')\n",
    "        break"
   ]
  },
  {
   "cell_type": "code",
   "execution_count": 2,
   "metadata": {},
   "outputs": [
    {
     "name": "stdout",
     "output_type": "stream",
     "text": [
      "请出招!1\n",
      "打成平手\n",
      "1000\n",
      "请出招!2\n",
      "玩家赢\n",
      "1001\n",
      "请出招!3\n",
      "电脑赢\n",
      "1000\n",
      "请出招!4\n",
      "请输入有效数字\n",
      "请出招!3\n",
      "玩家赢\n",
      "1001\n",
      "请出招!2\n",
      "玩家赢\n",
      "1002\n",
      "请出招!1\n",
      "电脑赢\n",
      "1001\n",
      "请出招!1\n",
      "打成平手\n",
      "1001\n",
      "请出招!2\n",
      "玩家赢\n",
      "1002\n",
      "请出招!3\n",
      "电脑赢\n",
      "1001\n",
      "请出招!3\n",
      "打成平手\n",
      "1001\n",
      "请出招!2\n",
      "玩家赢\n",
      "1002\n",
      "请出招!1\n",
      "玩家赢\n",
      "1003\n",
      "请出招!1\n",
      "玩家赢\n",
      "1004\n",
      "请出招!1\n",
      "玩家赢\n",
      "1005\n",
      "请出招!1\n",
      "玩家赢\n",
      "1006\n",
      "请出招!1\n",
      "电脑赢\n",
      "1005\n",
      "请出招!1\n",
      "电脑赢\n",
      "1004\n",
      "请出招!1\n",
      "打成平手\n",
      "1004\n",
      "请出招!1\n",
      "电脑赢\n",
      "1003\n",
      "请出招!1\n",
      "电脑赢\n",
      "1002\n",
      "请出招!1\n",
      "电脑赢\n",
      "1001\n",
      "请出招!1\n",
      "电脑赢\n",
      "1000\n",
      "请出招!1\n",
      "电脑赢\n",
      "999\n",
      "请出招!1\n",
      "打成平手\n",
      "999\n",
      "请出招!1\n",
      "电脑赢\n",
      "998\n",
      "请出招!\n"
     ]
    },
    {
     "ename": "ValueError",
     "evalue": "invalid literal for int() with base 10: ''",
     "output_type": "error",
     "traceback": [
      "\u001b[1;31m---------------------------------------------------------------------------\u001b[0m",
      "\u001b[1;31mValueError\u001b[0m                                Traceback (most recent call last)",
      "\u001b[1;32m<ipython-input-2-bd32996d2d2d>\u001b[0m in \u001b[0;36m<module>\u001b[1;34m()\u001b[0m\n\u001b[0;32m      7\u001b[0m \u001b[0mnum\u001b[0m \u001b[1;33m=\u001b[0m \u001b[1;36m1000\u001b[0m\u001b[1;33m\u001b[0m\u001b[0m\n\u001b[0;32m      8\u001b[0m \u001b[1;32mwhile\u001b[0m \u001b[1;36m0\u001b[0m \u001b[1;33m<=\u001b[0m \u001b[0mnum\u001b[0m \u001b[1;33m<=\u001b[0m \u001b[1;36m2000\u001b[0m\u001b[1;33m:\u001b[0m\u001b[1;33m\u001b[0m\u001b[0m\n\u001b[1;32m----> 9\u001b[1;33m     \u001b[0manswer\u001b[0m \u001b[1;33m=\u001b[0m \u001b[0mint\u001b[0m\u001b[1;33m(\u001b[0m\u001b[0minput\u001b[0m\u001b[1;33m(\u001b[0m\u001b[1;34m'请出招!'\u001b[0m\u001b[1;33m)\u001b[0m\u001b[1;33m)\u001b[0m\u001b[1;33m\u001b[0m\u001b[0m\n\u001b[0m\u001b[0;32m     10\u001b[0m     \u001b[0mcomputer_answer\u001b[0m \u001b[1;33m=\u001b[0m \u001b[0mrandint\u001b[0m\u001b[1;33m(\u001b[0m\u001b[1;36m1\u001b[0m\u001b[1;33m,\u001b[0m\u001b[1;36m3\u001b[0m\u001b[1;33m)\u001b[0m\u001b[1;33m\u001b[0m\u001b[0m\n\u001b[0;32m     11\u001b[0m     \u001b[1;32mif\u001b[0m \u001b[0manswer\u001b[0m \u001b[1;33m==\u001b[0m \u001b[0mcomputer_answer\u001b[0m\u001b[1;33m:\u001b[0m\u001b[1;33m\u001b[0m\u001b[0m\n",
      "\u001b[1;31mValueError\u001b[0m: invalid literal for int() with base 10: ''"
     ]
    }
   ],
   "source": [
    "from random import randint\n",
    "\n",
    "\n",
    "#1=石头\n",
    "#2=剪刀\n",
    "#3 = 布\n",
    "num = 1000\n",
    "while 0 <= num <= 2000:\n",
    "    answer = int(input('请出招!'))\n",
    "    computer_answer = randint(1,3)\n",
    "    if answer == computer_answer:\n",
    "        print('打成平手')\n",
    "        print(num)\n",
    "    elif answer == 1 and computer_answer == 2:\n",
    "        print('玩家赢')\n",
    "        num += 1\n",
    "        print(num)\n",
    "    elif answer == 1 and computer_answer == 3:\n",
    "        print('电脑赢')\n",
    "        num -= 1\n",
    "        print(num)\n",
    "    elif answer == 2 and computer_answer == 3:\n",
    "        print('玩家赢')\n",
    "        num += 1\n",
    "        print(num)\n",
    "    elif answer == 2 and computer_answer == 1:\n",
    "        print('电脑赢')\n",
    "        num -= 1\n",
    "        print(num)\n",
    "    elif answer == 3 and computer_answer == 1:\n",
    "        print('玩家赢')\n",
    "        num += 1\n",
    "        print(num)\n",
    "    elif answer == 3 and computer_answer == 2:\n",
    "        print('电脑赢')\n",
    "        num -= 1\n",
    "        print(num)\n",
    "    else:\n",
    "        print('请输入有效数字')\n",
    "print('game over')"
   ]
  },
  {
   "cell_type": "markdown",
   "metadata": {},
   "source": [
    "2\n",
    "## "
   ]
  }
 ],
 "metadata": {
  "kernelspec": {
   "display_name": "Python 3",
   "language": "python",
   "name": "python3"
  },
  "language_info": {
   "codemirror_mode": {
    "name": "ipython",
    "version": 3
   },
   "file_extension": ".py",
   "mimetype": "text/x-python",
   "name": "python",
   "nbconvert_exporter": "python",
   "pygments_lexer": "ipython3",
   "version": "3.6.4"
  }
 },
 "nbformat": 4,
 "nbformat_minor": 2
}
