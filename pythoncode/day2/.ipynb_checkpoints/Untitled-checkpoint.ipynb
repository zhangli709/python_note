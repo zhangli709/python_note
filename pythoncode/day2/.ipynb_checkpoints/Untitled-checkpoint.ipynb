{
 "cells": [
  {
   "cell_type": "code",
   "execution_count": 1,
   "metadata": {},
   "outputs": [
    {
     "ename": "SyntaxError",
     "evalue": "Missing parentheses in call to 'print'. Did you mean print(int result)? (<ipython-input-1-0d130c6264bf>, line 10)",
     "output_type": "error",
     "traceback": [
      "\u001b[1;36m  File \u001b[1;32m\"<ipython-input-1-0d130c6264bf>\"\u001b[1;36m, line \u001b[1;32m10\u001b[0m\n\u001b[1;33m    print result\u001b[0m\n\u001b[1;37m               ^\u001b[0m\n\u001b[1;31mSyntaxError\u001b[0m\u001b[1;31m:\u001b[0m Missing parentheses in call to 'print'. Did you mean print(int result)?\n"
     ]
    }
   ],
   "source": [
    "import random \n",
    "import sys\n",
    "import time\n",
    "\n",
    "result =[]\n",
    "while True:\n",
    "    result.append(int(random.uniform(1,7)))\n",
    "    result.append(int(random.uniform(1,7)))\n",
    "    result.append(int(random.uniform(1,7)))\n",
    "    print result\n",
    "    count = 0\n",
    "    index = 2\n",
    "    pointStr = ''\n",
    "    while index >= 0:\n",
    "        currPoint = result[index]\n",
    "        count += currPoint\n",
    "        index -= 1\n",
    "        pointStr +=''\n",
    "        pointStr += str(currPoint)\n",
    "    if count <= 11:\n",
    "        sys.stdout.write(pointStr + '->' + '小' + '/n')\n",
    "        time.sleep(1)\n",
    "    else:\n",
    "        sys.stdout.write(pointStr + '->' + '大' + '/n')\n",
    "        result = []\n",
    "        "
   ]
  },
  {
   "cell_type": "markdown",
   "metadata": {},
   "source": [
    "###九九乘法表"
   ]
  },
  {
   "cell_type": "code",
   "execution_count": null,
   "metadata": {},
   "outputs": [],
   "source": [
    "i = 1\n",
    "while i :\n",
    "    j = 1 \n",
    "    while j:\n",
    "        print j,'*' ,i ,'=',i*j, '',\n",
    "        if i == j:\n",
    "            break\n",
    "        \n",
    "        j += 1\n",
    "        if j >= 10:\n",
    "            break\n",
    "    print '/n'\n",
    "    i += 1\n",
    "    if i >"
   ]
  },
  {
   "cell_type": "code",
   "execution_count": 2,
   "metadata": {},
   "outputs": [
    {
     "name": "stdout",
     "output_type": "stream",
     "text": [
      "基基基基非非非非非基基非基基基非基非非基基非非非基非非基基非"
     ]
    }
   ],
   "source": [
    "def main():\n",
    "    mans = [True] * 30\n",
    "    count = 0\n",
    "    num = 0\n",
    "    index = 0\n",
    "    while count < 15:\n",
    "        if mans[index]:\n",
    "            num += 1\n",
    "            if num == 9:\n",
    "                mans[index] = False\n",
    "                num = 0\n",
    "                count += 1\n",
    "        index += 1\n",
    "        index = index % 30\n",
    "    for index, val in enumerate(mans):\n",
    "        print('基' if val else '非', end='')\n",
    "\n",
    "\n",
    "\n",
    "\n",
    "if __name__ == \"__main__\":\n",
    "    main()"
   ]
  },
  {
   "cell_type": "code",
   "execution_count": null,
   "metadata": {},
   "outputs": [],
   "source": [
    "def main():\n",
    "    names = ['关羽', '张飞', '赵云', '马超', '貂蝉']\n",
    "    subjects = ['语文', '数学', 'Python']\n",
    "    scores = [[0] * len(subjects) for _ in range(len(names))]\n",
    "    for row, name in enumerate(names):\n",
    "        print('%s的成绩' % name)\n",
    "        for col, subject in enumerate(subjects):\n",
    "            scores[row][col] = (int(input('请输入%s成绩：'% subject)))\n",
    "    print(scores)\n",
    "if __name__ == \"__main__\":\n",
    "    main()"
   ]
  },
  {
   "cell_type": "code",
   "execution_count": null,
   "metadata": {},
   "outputs": [],
   "source": [
    "def main():\n",
    "    names = ['关羽', '张飞', '赵云', '马超', '貂蝉']\n",
    "    subjects = ['语文', '数学', 'Python']\n",
    "    scores = [[0] * len(subjects) for _ in range(len(names))]\n",
    "    for row, name in enumerate(names):\n",
    "        print('请输入%s' % name)\n",
    "        for col, subject in enumerate(subjects):\n",
    "            scores[row][col] = (int(input('请输入%s成绩：'% subject)))\n",
    "    print(scores)\n",
    "if __name__ == \"__main__\":\n",
    "    main()"
   ]
  },
  {
   "cell_type": "code",
   "execution_count": null,
   "metadata": {},
   "outputs": [],
   "source": []
  }
 ],
 "metadata": {
  "kernelspec": {
   "display_name": "Python 3",
   "language": "python",
   "name": "python3"
  },
  "language_info": {
   "codemirror_mode": {
    "name": "ipython",
    "version": 3
   },
   "file_extension": ".py",
   "mimetype": "text/x-python",
   "name": "python",
   "nbconvert_exporter": "python",
   "pygments_lexer": "ipython3",
   "version": "3.6.4"
  }
 },
 "nbformat": 4,
 "nbformat_minor": 2
}
