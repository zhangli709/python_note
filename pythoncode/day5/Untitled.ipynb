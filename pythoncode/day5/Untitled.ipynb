{
 "cells": [
  {
   "cell_type": "code",
   "execution_count": 12,
   "metadata": {},
   "outputs": [
    {
     "name": "stdout",
     "output_type": "stream",
     "text": [
      "['James', 'Smith', 'Wade', 'Love', 'Harden', 'Paul', 'Curry', 'Kobe.bryant']\n"
     ]
    }
   ],
   "source": [
    "names = [\"James\",\"Jasmine\", \"Wade\",\"Harden\",\"Paul\",\"Curry\"]\n",
    "#print(names[2:-1])  切片，截取之间列表中间的数，左闭右开。\n",
    "# del names[0]    删除第几个。\n",
    "# print(names)\n",
    "# names.pop(0)\n",
    "# print(names)    删除倒数的第几个。\n",
    "#print(names.index('Wade'))  打印已知名字所在的位置。\n",
    "# names.insert(4,'Curry')\n",
    "# print(names.count('Curry'))  统计list表里有多少个Curry.\n",
    "# names.append('Kobe.bryant')  #在列表末尾加\n",
    "# names.insert(3,'Love')      #在位置3插入\n",
    "# names[1] = 'Smith'            #把位置1的改成''\n",
    "# print(names)\n",
    "\n",
    "\n"
   ]
  },
  {
   "cell_type": "code",
   "execution_count": null,
   "metadata": {
    "scrolled": true
   },
   "outputs": [
    {
     "name": "stdout",
     "output_type": "stream",
     "text": [
      "0 SiChuan\n",
      "1 GuiZhou\n",
      "2 YunNan\n",
      "input your province: sichuan\n",
      "0 SiChuan\n",
      "1 GuiZhou\n",
      "2 YunNan\n",
      "input your province: 0\n",
      "0 SiChuan\n",
      "1 GuiZhou\n",
      "2 YunNan\n",
      "input your province: SiChuan\n",
      "\t ChengDu\n",
      "\t MianYang\n",
      "\t DeYang\n",
      "\t LuZhou\n",
      "\t PanZhiHua\n",
      "\t LeShan\n",
      "\t GuangAn\n",
      "input your city:ChengDu\n",
      "\t\t JingJiangQu\n",
      "\t\t WuHouQu\n",
      "input your choice to get more details: WuHouQu\n",
      "\t\t JingJiangQu\n",
      "\t\t WuHouQu\n"
     ]
    }
   ],
   "source": [
    "city_province = {\n",
    "\n",
    "    \"SiChuan\" : {\n",
    "        \"ChengDu\": {\n",
    "                    \"JingJiangQu\": [\"银石广场\", \"春熙路\"],\n",
    "                    \"WuHouQu\": [\"武侯祠\"]\n",
    "\n",
    "                    },\n",
    "        \"MianYang\":[\"345\"],\n",
    "        \"DeYang\":[\"678\"],\n",
    "        \"LuZhou\":[\"789\"],\n",
    "        \"PanZhiHua\":[\"91011\"],\n",
    "        \"LeShan\":[\"101112\"],\n",
    "        \"GuangAn\":[\"111213\"]\n",
    "    },\n",
    "    \"GuiZhou\": {\n",
    "        \"GuiYang\": [\"123\"],\n",
    "        \"ZunYiShi\": [\"234\"],\n",
    "        \"AnShunShi\": [\"345\"],\n",
    "        \"FuQuanShi\": [\"456\"],\n",
    "        \"KaiLiShi\": [\"567\"],\n",
    "        \"XingYiShi\": [\"678\"]\n",
    "    },\n",
    "    \"YunNan\": {\n",
    "        \"KunMing\": [\"123\"],\n",
    "        \"QuJing\": [\"234\"],\n",
    "        \"YuXi\": [\"345\"],\n",
    "        \"BaoShan\": [\"456\"],\n",
    "        \"LiJiang\": [\"567\"],\n",
    "        \"PuEr\": [\"678\"],\n",
    "        \"XuanWei\": [\"789\"]\n",
    "    }\n",
    "\n",
    "\n",
    "}\n",
    "\n",
    "# print(city_province[\"YunNan\"][\"KunMing\"][0])\n",
    "# print(city_province.values())\n",
    "# print(city_province.keys())\n",
    "\n",
    "while True:\n",
    "    for index, i in enumerate(city_province):\n",
    "        print(index, i)\n",
    "\n",
    "    choice = input(\"input your province: \")\n",
    "    if choice in city_province:\n",
    "        while True:\n",
    "            for i2 in city_province[choice]:\n",
    "                print(\"\\t\", i2)\n",
    "            choice_2 = input(\"input your city:\")\n",
    "            if choice_2 in city_province[choice]:\n",
    "                while True:\n",
    "                    for i3 in city_province[choice][choice_2]:\n",
    "                        print(\"\\t\\t\", i3)\n",
    "                    choice_3 = input(\"input your choice to get more details: \")\n",
    "                    if choice_3 in city_province[choice]:\n",
    "                        for i4 in city_province[choice][choice_2][choice_3]:\n",
    "                            print(\"\\t\\t\", i4)\n",
    "                        choice_4 = input(\"press b to go back the main menu: \")\n",
    "                        if choice_4 == \"b\":\n",
    "                           pass\n",
    "                if choice_3 == \"b\":\n",
    "                    break\n",
    "        if choice_2 == \"b\":\n",
    "            break"
   ]
  },
  {
   "cell_type": "markdown",
   "metadata": {},
   "source": [
    "# 元组\n",
    "1.元组与列表类似，但是不能修改。\n",
    "2.元组使用小括号，列表使用中括号，\n",
    "3.元组创建简单，括号之中加元素即可。\n",
    "   1.空元组 tup1 = ()\n",
    "   2.一个元素的元组  tup1 =(50,),一个元素注意要加逗号，用以区分。\n",
    "   3，元组虽不能修改，但是可以截取，组合。"
   ]
  },
  {
   "cell_type": "code",
   "execution_count": 2,
   "metadata": {},
   "outputs": [
    {
     "name": "stdout",
     "output_type": "stream",
     "text": [
      "tup1[0]:  physics\n",
      "tup2[1:5]:  (2, 3, 4, 5)\n"
     ]
    }
   ],
   "source": [
    "tup1 = ('physics', 'chemistry', 1997, 2000);\n",
    "tup2 = (1, 2, 3, 4, 5, 6, 7 );\n",
    "\n",
    "print (\"tup1[0]: \", tup1[0])\n",
    "print (\"tup2[1:5]: \", tup2[1:5])"
   ]
  },
  {
   "cell_type": "code",
   "execution_count": null,
   "metadata": {},
   "outputs": [],
   "source": []
  },
  {
   "cell_type": "markdown",
   "metadata": {},
   "source": [
    "# 元组运算符\n",
    "1.len 计算元素个数\n",
    "2. + 连接\n",
    "3. * 复制  ('AI',) * 4\n",
    "4. in 检查元素是否存在。  3 in（1， 2，3）\n",
    "5.迭代  for x in (1,2,3): print x     1 2 3"
   ]
  },
  {
   "cell_type": "code",
   "execution_count": 5,
   "metadata": {},
   "outputs": [
    {
     "name": "stdout",
     "output_type": "stream",
     "text": [
      "123"
     ]
    }
   ],
   "source": [
    "for x in(1, 2, 3):\n",
    "    print (x, end='')"
   ]
  },
  {
   "cell_type": "markdown",
   "metadata": {},
   "source": [
    "# 元组索引，截取\n"
   ]
  },
  {
   "cell_type": "code",
   "execution_count": 7,
   "metadata": {},
   "outputs": [
    {
     "name": "stdout",
     "output_type": "stream",
     "text": [
      "Aliza\n",
      "Smith\n",
      "('Smith', 'Aliza')\n"
     ]
    }
   ],
   "source": [
    "L = ('KB', 'Smith', 'Aliza')\n",
    "print (L[2])\n",
    "print (L[-2])\n",
    "print (L[1:])"
   ]
  },
  {
   "cell_type": "code",
   "execution_count": 8,
   "metadata": {},
   "outputs": [
    {
     "name": "stdout",
     "output_type": "stream",
     "text": [
      "函数内取值:  [10, 20, 30, [1, 2, 3, 4]]\n",
      "函数外取值:  [10, 20, 30, [1, 2, 3, 4]]\n"
     ]
    }
   ],
   "source": [
    "# 可写函数说明\n",
    "def changeme( mylist ):\n",
    "   \"修改传入的列表\"\n",
    "   mylist.append([1,2,3,4]);\n",
    "   print (\"函数内取值: \", mylist)\n",
    "   return\n",
    " \n",
    "# 调用changeme函数\n",
    "mylist = [10,20,30];\n",
    "changeme( mylist );\n",
    "print (\"函数外取值: \", mylist)"
   ]
  },
  {
   "cell_type": "code",
   "execution_count": 16,
   "metadata": {},
   "outputs": [
    {
     "ename": "NameError",
     "evalue": "name 'math' is not defined",
     "output_type": "error",
     "traceback": [
      "\u001b[1;31m---------------------------------------------------------------------------\u001b[0m",
      "\u001b[1;31mNameError\u001b[0m                                 Traceback (most recent call last)",
      "\u001b[1;32m<ipython-input-16-08d4552485c8>\u001b[0m in \u001b[0;36m<module>\u001b[1;34m()\u001b[0m\n\u001b[0;32m      1\u001b[0m \u001b[1;32mfrom\u001b[0m \u001b[0mmath\u001b[0m \u001b[1;32mimport\u001b[0m \u001b[1;33m*\u001b[0m\u001b[1;33m\u001b[0m\u001b[0m\n\u001b[1;32m----> 2\u001b[1;33m \u001b[0md\u001b[0m \u001b[1;33m=\u001b[0m \u001b[0mmath\u001b[0m\u001b[1;33m.\u001b[0m\u001b[0msqrt\u001b[0m\u001b[1;33m(\u001b[0m\u001b[1;36m4\u001b[0m\u001b[1;33m)\u001b[0m\u001b[1;33m\u001b[0m\u001b[0m\n\u001b[0m\u001b[0;32m      3\u001b[0m \u001b[0mprint\u001b[0m \u001b[1;33m(\u001b[0m\u001b[0md\u001b[0m\u001b[1;33m)\u001b[0m\u001b[1;33m\u001b[0m\u001b[0m\n",
      "\u001b[1;31mNameError\u001b[0m: name 'math' is not defined"
     ]
    }
   ],
   "source": [
    "from math import *\n",
    "d = math.sqrt(4)\n",
    "print (d)"
   ]
  },
  {
   "cell_type": "code",
   "execution_count": null,
   "metadata": {},
   "outputs": [],
   "source": []
  }
 ],
 "metadata": {
  "kernelspec": {
   "display_name": "Python 3",
   "language": "python",
   "name": "python3"
  },
  "language_info": {
   "codemirror_mode": {
    "name": "ipython",
    "version": 3
   },
   "file_extension": ".py",
   "mimetype": "text/x-python",
   "name": "python",
   "nbconvert_exporter": "python",
   "pygments_lexer": "ipython3",
   "version": "3.6.4"
  }
 },
 "nbformat": 4,
 "nbformat_minor": 2
}
