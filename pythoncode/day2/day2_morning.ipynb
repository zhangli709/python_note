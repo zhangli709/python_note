{
 "cells": [
  {
   "cell_type": "code",
   "execution_count": 1,
   "metadata": {},
   "outputs": [
    {
     "name": "stdout",
     "output_type": "stream",
     "text": [
      "请输入用户名：admin\n",
      "请输入密码：········\n",
      "欢迎使用本系统.\n"
     ]
    }
   ],
   "source": [
    "import getpass\n",
    "username = input('请输入用户名：')\n",
    "password = getpass.getpass('请输入密码：')\n",
    "if username =='admin' and password == '123456':\n",
    "    print('欢迎使用本系统.')\n",
    "else:\n",
    "    print('用户名或密码错误！')\n",
    "    "
   ]
  },
  {
   "cell_type": "code",
   "execution_count": 7,
   "metadata": {},
   "outputs": [
    {
     "ename": "SyntaxError",
     "evalue": "invalid syntax (<ipython-input-7-ddf3a77499f1>, line 6)",
     "output_type": "error",
     "traceback": [
      "\u001b[1;36m  File \u001b[1;32m\"<ipython-input-7-ddf3a77499f1>\"\u001b[1;36m, line \u001b[1;32m6\u001b[0m\n\u001b[1;33m    else if unit == 'cm' or unit == '厘米':\u001b[0m\n\u001b[1;37m          ^\u001b[0m\n\u001b[1;31mSyntaxError\u001b[0m\u001b[1;31m:\u001b[0m invalid syntax\n"
     ]
    }
   ],
   "source": [
    "#单位换算\n",
    "value = float(input('请输入温度：'))\n",
    "unit = input(\"请输入单位：\")\n",
    "if unit == 'in' or unit == '英寸':\n",
    "    print('%.2f英寸 = % .2f厘米' % ())\n",
    "else if unit == 'cm' or unit == '厘米':\n",
    "    print()\n",
    "else:\n",
    "    print('请输入正确的单位！')"
   ]
  },
  {
   "cell_type": "code",
   "execution_count": 5,
   "metadata": {},
   "outputs": [
    {
     "name": "stdout",
     "output_type": "stream",
     "text": [
      "请输入数字：22\n",
      "请输入单位：厘米\n",
      "22.00厘米 = 8.66英寸\n"
     ]
    }
   ],
   "source": [
    "value = float(input('请输入数字：'))\n",
    "unit = input('请输入单位：')\n",
    "if unit == '英寸':\n",
    "    trans_value = 2.54 * value \n",
    "    print('%.2f英寸 = %.2厘米' %(value, trans_value))\n",
    "elif unit == '厘米':\n",
    "    trans_value = value / 2.54\n",
    "    print('%.2f厘米 = %.2f英寸' % (value, trans_value))\n",
    "else:\n",
    "    print('请输入正确的单位：英寸/厘米')\n",
    "    "
   ]
  },
  {
   "cell_type": "code",
   "execution_count": 2,
   "metadata": {},
   "outputs": [
    {
     "name": "stdout",
     "output_type": "stream",
     "text": [
      "a = 3\n",
      "b = 4\n",
      "c = 5\n",
      "周长：12.0\n",
      "面积：6.0\n"
     ]
    }
   ],
   "source": [
    "import math\n",
    "\n",
    "a = float(input('a = '))\n",
    "b = float(input('b = '))\n",
    "c = float(input('c = '))\n",
    "if a + b > c and a + c > b and b + c > a:\n",
    "    perimeter = a + b + c\n",
    "    print('周长：' + str(perimeter))\n",
    "    half = perimeter / 2\n",
    "    area = math.sqrt(half *(half - a ) * (half - b ) * (half - c))\n",
    "    print('面积：' + str(area))\n",
    "else:\n",
    "    print('不满足三角形条件！')"
   ]
  },
  {
   "cell_type": "code",
   "execution_count": 1,
   "metadata": {},
   "outputs": [
    {
     "name": "stdout",
     "output_type": "stream",
     "text": [
      "x =3\n",
      "4.0\n"
     ]
    }
   ],
   "source": [
    "x = float(input('x ='))\n",
    "if x < -1:\n",
    "    y = 5 * x + 3\n",
    "elif x <= 1:\n",
    "    y = 2 * x - 1\n",
    "else:\n",
    "    y = 3 * x - 5\n",
    "print(y)\n"
   ]
  },
  {
   "cell_type": "code",
   "execution_count": 3,
   "metadata": {},
   "outputs": [
    {
     "name": "stdout",
     "output_type": "stream",
     "text": [
      "2\n"
     ]
    }
   ],
   "source": [
    "a = 2\n",
    "print(2)"
   ]
  },
  {
   "cell_type": "markdown",
   "metadata": {},
   "source": [
    "### 下面这种扁平的是官方推荐的写法\n"
   ]
  },
  {
   "cell_type": "code",
   "execution_count": 7,
   "metadata": {},
   "outputs": [
    {
     "name": "stdout",
     "output_type": "stream",
     "text": [
      "请输入你的成绩:-4\n",
      "请输入正确的成绩\n"
     ]
    }
   ],
   "source": [
    "grade = float(input('请输入你的成绩:'))\n",
    "if grade >= 90 and grade <= 100:\n",
    "    print('优秀')\n",
    "elif grade >=80:\n",
    "    print('良好')\n",
    "elif grade >= 70:\n",
    "    print('中等')\n",
    "elif grade >= 60:\n",
    "    print('及格')\n",
    "elif grade >= 0:\n",
    "    print('不及格')\n",
    "else:\n",
    "    print('请输入正确的成绩')"
   ]
  },
  {
   "cell_type": "code",
   "execution_count": 9,
   "metadata": {},
   "outputs": [
    {
     "name": "stdout",
     "output_type": "stream",
     "text": [
      "0.02314897827808382\n"
     ]
    },
    {
     "data": {
      "text/plain": [
       "'\\n上下用法一样.\\n'"
      ]
     },
     "execution_count": 9,
     "metadata": {},
     "output_type": "execute_result"
    }
   ],
   "source": [
    "#import random\n",
    "#print(random.random())\n",
    "\n",
    "\n",
    "from random import random\n",
    "print(random())\n",
    "#随机数是[0,1)\n",
    "'''\n",
    "上下用法一样.\n",
    "'''\n",
    "#random() * 200 - 100   (-100~100)\n",
    "#randint(1,6)  随机整数,闭区间."
   ]
  },
  {
   "cell_type": "code",
   "execution_count": 28,
   "metadata": {},
   "outputs": [
    {
     "name": "stdout",
     "output_type": "stream",
     "text": [
      "1\n",
      "请喝酒一杯!\n"
     ]
    }
   ],
   "source": [
    "from random import random, randint\n",
    "number =randint(1,6)\n",
    "print(number)\n",
    "if number == 1:\n",
    "    print('请喝酒一杯!')\n",
    "elif number == 2:\n",
    "    print('请唱2首歌!')\n",
    "elif number == 3:\n",
    "    print('请拍三下手!')\n",
    "elif number == 4:\n",
    "    print('请拥抱4下!')\n",
    "elif number == 5:\n",
    "    print('请做五个下蹲!')\n",
    "else:\n",
    "    print('请做六个俯卧撑!')\n",
    "\n"
   ]
  },
  {
   "cell_type": "code",
   "execution_count": null,
   "metadata": {},
   "outputs": [],
   "source": [
    "from random import randint\n",
    "\n",
    "f1 = 0\n",
    "f2 = 0\n",
    "f3 = 0\n",
    "f4 = 0\n",
    "f5 = 0\n",
    "f6 = 0\n",
    "x = input('请输入要掷色子的次数：')\n",
    "for _ in range(x):\n",
    "    number =randint(1,6)\n",
    "    if number == 1:\n",
    "        f1 +=1\n",
    "    elif number == 2:\n",
    "        f2 +=1\n",
    "    elif number == 3:\n",
    "        f3 +=1\n",
    "    elif number == 4:\n",
    "        f4 +=1\n",
    "    elif number == 5:\n",
    "        f5 +=1\n",
    "    else:\n",
    "        f6 +=1\n",
    "print('1点摇出了%d次' %(f1))\n",
    "print('2点摇出了%d次' %(f2))\n",
    "print('3点摇出了%d次' %(f3))\n",
    "print('4点摇出了%d次' %(f4))\n",
    "print('5点摇出了%d次' %(f5))\n",
    "print('6点摇出了%d次' %(f6))"
   ]
  },
  {
   "cell_type": "code",
   "execution_count": null,
   "metadata": {},
   "outputs": [],
   "source": []
  }
 ],
 "metadata": {
  "kernelspec": {
   "display_name": "Python 3",
   "language": "python",
   "name": "python3"
  },
  "language_info": {
   "codemirror_mode": {
    "name": "ipython",
    "version": 3
   },
   "file_extension": ".py",
   "mimetype": "text/x-python",
   "name": "python",
   "nbconvert_exporter": "python",
   "pygments_lexer": "ipython3",
   "version": "3.6.4"
  }
 },
 "nbformat": 4,
 "nbformat_minor": 2
}
