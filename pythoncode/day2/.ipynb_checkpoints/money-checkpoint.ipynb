{
 "cells": [
  {
   "cell_type": "code",
   "execution_count": 1,
   "metadata": {},
   "outputs": [],
   "source": [
    "#计算个人所得税\n"
   ]
  },
  {
   "cell_type": "code",
   "execution_count": 2,
   "metadata": {},
   "outputs": [
    {
     "name": "stdout",
     "output_type": "stream",
     "text": [
      "请输入你的工资:5000\n",
      "应缴纳个人所得税:45.00\n"
     ]
    }
   ],
   "source": [
    "money = int(input('请输入你的工资:'))\n",
    "value = money - 3500\n",
    "if 0 < value < 1500:\n",
    "    pay_value = value * 0.03 - 0\n",
    "    print('应缴纳个人所得税:%.2f' % pay_value)\n",
    "elif 1500 <= value <= 4500:\n",
    "    pay_value = value * 0.1 -105\n",
    "    print('应缴纳个人所得税:%.2f' % pay_value)\n",
    "elif 4500 <= value <= 9000:\n",
    "    pay_value = value * 0.2 -555\n",
    "    print('应缴纳个人所得税:%.2f' % pay_value)\n",
    "elif 9000 <= value <= 35000:\n",
    "    pay_value = value * 0.25 -1005\n",
    "    print('应缴纳个人所得税:%.2f' % pay_value)\n",
    "elif 35000 <= value <= 55000:\n",
    "    pay_value = value * 0.3 -2755\n",
    "    print('应缴纳个人所得税:%.2f' % pay_value)\n",
    "elif 55000 <= value <= 80000:\n",
    "    pay_value = value * 0.35 -5505\n",
    "    print('应缴纳个人所得税:%.2f' % pay_value)\n",
    "elif 80000 <= value:\n",
    "    pay_value = value * 0.45 -13505\n",
    "    print('应缴纳个人所得税:%.2f' % pay_value)\n",
    "elif -3500 <= value <= 0:\n",
    "    pay_value = 0\n",
    "    print('应缴纳个人所得税:%.2f' % pay_value)\n",
    "else:\n",
    "    print('请输入正确的工资!')"
   ]
  },
  {
   "cell_type": "code",
   "execution_count": null,
   "metadata": {},
   "outputs": [],
   "source": []
  },
  {
   "cell_type": "code",
   "execution_count": null,
   "metadata": {},
   "outputs": [],
   "source": []
  }
 ],
 "metadata": {
  "kernelspec": {
   "display_name": "Python 3",
   "language": "python",
   "name": "python3"
  },
  "language_info": {
   "codemirror_mode": {
    "name": "ipython",
    "version": 3
   },
   "file_extension": ".py",
   "mimetype": "text/x-python",
   "name": "python",
   "nbconvert_exporter": "python",
   "pygments_lexer": "ipython3",
   "version": "3.6.4"
  }
 },
 "nbformat": 4,
 "nbformat_minor": 2
}
